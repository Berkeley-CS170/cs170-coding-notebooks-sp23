{
 "cells": [
  {
   "cell_type": "code",
   "execution_count": null,
   "id": "359a7b01",
   "metadata": {
    "deletable": false,
    "editable": false
   },
   "outputs": [],
   "source": [
    "# Initialize Otter\n",
    "import otter\n",
    "grader = otter.Notebook(\"paths_on_graphs.ipynb\")"
   ]
  },
  {
   "cell_type": "markdown",
   "id": "81d5433a",
   "metadata": {},
   "source": [
    "### Please restart the kernel after running next cell"
   ]
  },
  {
   "cell_type": "code",
   "execution_count": null,
   "id": "3f465677",
   "metadata": {},
   "outputs": [],
   "source": [
    "# version shenanigans\n",
    "!pip install -r requirements.txt --quiet\n",
    "import otter\n",
    "grader = otter.Notebook(\"paths_on_graphs.ipynb\")\n",
    "assert otter.__version__ >= \"4.2.0\", \"Please restart your kernel.\""
   ]
  },
  {
   "cell_type": "code",
   "execution_count": null,
   "id": "b20cfd31",
   "metadata": {},
   "outputs": [],
   "source": [
    "import networkx as nx\n",
    "import tqdm\n",
    "from heapq import heappush, heappop\n",
    "import numpy as np"
   ]
  },
  {
   "cell_type": "markdown",
   "id": "f3876a94",
   "metadata": {},
   "source": [
    "### Representing graphs in code\n",
    "\n",
    "There are multiple ways to represent graphs in code. In class we covered adjacency matrices (https://people.eecs.berkeley.edu/~vazirani/algorithms/chap3.pdf#page=2) and adjacency lists (https://people.eecs.berkeley.edu/~vazirani/algorithms/chap3.pdf#page=3). There is also the edge list representation, in which you store the edges in a single 1 dimensional list. In general for 170, we choose to use the adjacency list representation since it let's us quickly determine all of a given nodes neighbors.\n",
    "\n",
    "In many programming problems, verticies are typically labelled $0$ through $n-1$ for convenience (recall that arrays and lists in most languages begin at index 0). This allows us to represent an adjacency list using a list of lists. Given an edge list, the following code will create an adjacency list for an __unweighted undirected graph__."
   ]
  },
  {
   "cell_type": "code",
   "execution_count": null,
   "id": "43ade12e",
   "metadata": {},
   "outputs": [],
   "source": [
    "def make_adj_list(n, edge_list):\n",
    "    \"\"\"\n",
    "    args:\n",
    "        n:int = number of nodes in the graph. The nodes are labelled with integers 0 through n-1\n",
    "        edge_list:List[Tuple(int,int)] = edge list where each tuple (u,v) represents the undirected \n",
    "            edge (u,v) in the graph\n",
    "    return:\n",
    "        A List[List[int]] representing the adjacency list \n",
    "    \"\"\"\n",
    "    # using a list of lists\n",
    "    adj_list = [[] for i in range(0,n)] \n",
    "    for edge in edge_list:\n",
    "        adj_list[edge[0]].append(edge[1]) # need to include both directions for the edge\n",
    "        adj_list[edge[1]].append(edge[0])\n",
    "    return adj_list\n"
   ]
  },
  {
   "cell_type": "markdown",
   "id": "c11ece40",
   "metadata": {},
   "source": [
    "### Q1) DFS\n",
    "\n",
    "In class we showed how to use DFS to check if there exists a path between two nodes, topologically sort nodes, and find SCC's. In those algorithms, pre and post numbers were used.\n",
    "\n",
    "Here you'll implement a variation of DFS to print out the path between two nodes. In many problems, we want to be able to find the actual path between two nodes, not just determine if it exists. Return the path as a list of nodes on that path. For example, the path `s -> a -> b -> c -> t` corresponds to the list `[s, a, b, c, t]`. Note you will not need to implement calculating pre and post numbers for this exercise.\n",
    "\n",
    "*Hint:*\n",
    "1) It may be helpful to define a helper function which performs DFS.\n",
    "2) It may be helpful to maintain an extra data structure which for each node $u$, stores which node $v$ will be the previous node on some $s$ to $u$ path. See Q4 for more details."
   ]
  },
  {
   "cell_type": "code",
   "execution_count": null,
   "id": "82db3379",
   "metadata": {
    "tags": []
   },
   "outputs": [],
   "source": [
    "def dfs_path(adj_list, s, t):\n",
    "    \"\"\"\n",
    "    args:\n",
    "        adj_list:List[List] = an adjacency list \n",
    "        s:int = an int representing the starting node\n",
    "        t:int = an int representing the destination node\n",
    "\n",
    "    return: \n",
    "        a list of nodes starting with s and ending with t representing an s to t path if it exists. \n",
    "        Returns an empty list otherwise\n",
    "    \"\"\"\n",
    "    ..."
   ]
  },
  {
   "cell_type": "markdown",
   "id": "3d68db17",
   "metadata": {},
   "source": [
    "### Debugging\n",
    "\n",
    "You can create sample tests in the following cells to help debug your solution. We provide a few small tests as an example, but they might not be comprehensive.\n",
    "\n",
    "To add a new graph to the test, append a new edge list to `edge_lists` as shown in the next cell.  \n",
    "__Remember that these edges are undirected, so do not add both directions of an edge, both (u,v) and (v,u) to the edge list.__"
   ]
  },
  {
   "cell_type": "code",
   "execution_count": null,
   "id": "54f732e0",
   "metadata": {},
   "outputs": [],
   "source": [
    "edge_lists = []\n",
    "edge_lists.append([(0,1), (0,2), (1,2), (2,3), (3,4), (3,5), (4,5)])   # edge list of first graph\n",
    "edge_lists.append([(0,1), (0,2), (1,2), (3,4), (3,5), (4,5)])          # edge list of second graph\n",
    "# add any additional tests here"
   ]
  },
  {
   "cell_type": "raw",
   "id": "1052453e",
   "metadata": {},
   "source": [
    "For each test case you also need to add a starting node $s$, a destination node $t$, and $n$ the number of nodes in the graph, add them to the following lists. "
   ]
  },
  {
   "cell_type": "code",
   "execution_count": null,
   "id": "fb60bc39",
   "metadata": {},
   "outputs": [],
   "source": [
    "s_list = []\n",
    "s_list.append(0)  # s for first graph \n",
    "s_list.append(1)  # s for second graph \n",
    "# add any additional tests here\n",
    "\n",
    "t_list = []\n",
    "t_list.append(3)  # t for first graph\n",
    "t_list.append(4)  # t for second graph\n",
    "# add any additional tests here\n",
    "\n",
    "n_list = []\n",
    "n_list.append(6)  # n = 6 for first graph\n",
    "n_list.append(6)  # n = 6 for second graph\n",
    "# add any additional tests here"
   ]
  },
  {
   "cell_type": "markdown",
   "id": "94b0ab08",
   "metadata": {},
   "source": [
    "The following is a simplified version of the autograder, you may want to add more print statements or other debugging statements to check your function."
   ]
  },
  {
   "cell_type": "code",
   "execution_count": null,
   "id": "e6afc222",
   "metadata": {},
   "outputs": [],
   "source": [
    "import matplotlib.pyplot as plt\n",
    "index = 1\n",
    "for s, t, n, edge_list in zip(s_list, t_list, n_list, edge_lists):\n",
    "    print(\"Testing graph:\", index)\n",
    "    index += 1\n",
    "    \n",
    "    adj_list_graph = make_adj_list(n, edge_list) # function defined earlier\n",
    "    \n",
    "    path = dfs_path(adj_list_graph, s, t) \n",
    "    \n",
    "    nx_graph = nx.Graph(edge_list)\n",
    "    \n",
    "    # uncomment the following to plot each graph\n",
    "    '''\n",
    "    nx.draw(nx_graph, with_labels=True)\n",
    "    plt.title(f\"Graph with {n} vertices and start node {s} and destination {t}\")\n",
    "    plt.show()\n",
    "    '''\n",
    "    \n",
    "    if not nx.has_path(nx_graph,s,t):\n",
    "        assert len(path) == 0, f\"your dfs_path found an s-t path when there isn't one.\"\n",
    "    else:\n",
    "        # checks that the path returned is a real path in the graph and that it starts and ends \n",
    "        # at the right vertices\n",
    "        assert nx.is_simple_path(nx_graph, path), f\"your dfs_path did not return a valid simple path\"\n",
    "        assert path[0] == s, f\"your dfs_path returned a valid simple path, but it does not start at node s\"\n",
    "        assert path[-1] == t, f\"your dfs_path returned a valid simple path, but it does not end at node t\"\n",
    "\n",
    "print(\"Success\")"
   ]
  },
  {
   "cell_type": "code",
   "execution_count": null,
   "id": "cfbf39bd",
   "metadata": {
    "deletable": false,
    "editable": false
   },
   "outputs": [],
   "source": [
    "grader.check(\"q1\")"
   ]
  },
  {
   "cell_type": "markdown",
   "id": "17884c44",
   "metadata": {},
   "source": [
    "### Q2) BFS\n",
    "\n",
    "Similar to the above implementation of DFS, here you'll implement BFS such that BFS returns the s-t path. Return the path as a list of nodes on that path. For example, the path `s -> a -> b -> c -> t` corresponds to the list `[s, a, b, c, t]`.\n",
    "\n",
    "*Hint:*\n",
    "1) It may be helpful to maintain an extra data structure which for each node $u$, stores which node $v$ will be the previous node on some $s$ to $u$ path. See Q4 for more details."
   ]
  },
  {
   "cell_type": "code",
   "execution_count": null,
   "id": "65e9cfb9",
   "metadata": {
    "tags": []
   },
   "outputs": [],
   "source": [
    "import queue\n",
    "\n",
    "def bfs_path(adj_list, s, t):\n",
    "    \"\"\"\n",
    "    args:\n",
    "        adj_list:List[List] = an adjacency list \n",
    "        s:int = an int representing the starting node\n",
    "        t:int = an int representing the destination node\n",
    "\n",
    "    return: \n",
    "        a list of nodes starting with s and ending with t representing the shortest s to t path if it exists. \n",
    "        Returns an empty list otherwise\n",
    "    \"\"\"\n",
    "    ..."
   ]
  },
  {
   "cell_type": "markdown",
   "id": "d3fbd762",
   "metadata": {},
   "source": [
    "### Debugging\n",
    "\n",
    "You can create sample tests in the following cells to help debug your solution. We provide a few small tests as an example, but they might not be comprehensive.\n",
    "\n",
    "To add a new graph to the test, append a new edge list to `edge_lists` as shown in the next cell.  \n",
    "__Remember that these edges are undirected, so do not add both directions of an edge, both (u,v) and (v,u) to the edge list.__"
   ]
  },
  {
   "cell_type": "code",
   "execution_count": null,
   "id": "141afbb6",
   "metadata": {},
   "outputs": [],
   "source": [
    "edge_lists = []\n",
    "edge_lists.append([(0,1), (0,2), (1,2), (2,3), (3,4), (3,5), (4,5)])   # edge list of first graph\n",
    "edge_lists.append([(0,1), (0,2), (1,2), (3,4), (3,5), (4,5)])          # edge list of second graph\n",
    "# add any additional tests here"
   ]
  },
  {
   "cell_type": "raw",
   "id": "9e835b0f",
   "metadata": {},
   "source": [
    "For each test case you also need to add a starting node $s$, a destination node $t$, and $n$ the number of nodes in the graph, add them to the following lists. "
   ]
  },
  {
   "cell_type": "code",
   "execution_count": null,
   "id": "73b5c87c",
   "metadata": {},
   "outputs": [],
   "source": [
    "s_list = []\n",
    "s_list.append(0)  # s for first graph \n",
    "s_list.append(1)  # s for second graph \n",
    "# add any additional tests here\n",
    "\n",
    "t_list = []\n",
    "t_list.append(3)  # t for first graph\n",
    "t_list.append(4)  # t for second graph\n",
    "# add any additional tests here\n",
    "\n",
    "n_list = []\n",
    "n_list.append(6)  # n = 6 for first graph\n",
    "n_list.append(6)  # n = 6 for second graph\n",
    "# add any additional tests here"
   ]
  },
  {
   "cell_type": "markdown",
   "id": "ef6ee3e0",
   "metadata": {},
   "source": [
    "For each test case you also need to add the expected distance from $s$ to $t$. Add -1 if there is no $s-t$ path."
   ]
  },
  {
   "cell_type": "code",
   "execution_count": null,
   "id": "4e520dfb",
   "metadata": {},
   "outputs": [],
   "source": [
    "expected_distance = []\n",
    "expected_distance.append(2)   # 0-2-3 is the shortest path in the first graph\n",
    "expected_distance.append(-1)  # there is no path from 1 to 4 in the second graph\n",
    "# add any additional tests here\n"
   ]
  },
  {
   "cell_type": "markdown",
   "id": "cf68f34d",
   "metadata": {},
   "source": [
    "The following is a simplified version of the autograder, you may want to add more print statements or other debugging statements to check your function."
   ]
  },
  {
   "cell_type": "code",
   "execution_count": null,
   "id": "2074759e",
   "metadata": {},
   "outputs": [],
   "source": [
    "import matplotlib.pyplot as plt\n",
    "index = 1\n",
    "for s, t, n, edge_list, dist in zip(s_list, t_list, n_list, edge_lists, expected_distance):\n",
    "    print(\"Testing graph:\", index)\n",
    "    index += 1\n",
    "    adj_list_graph = make_adj_list(n, edge_list) # function defined earlier\n",
    "    \n",
    "    path = bfs_path(adj_list_graph, s, t) \n",
    "    \n",
    "    nx_graph = nx.Graph(edge_list)\n",
    "    \n",
    "    # uncomment the following to plot each graph\n",
    "    '''\n",
    "    nx.draw(nx_graph, with_labels=True)\n",
    "    plt.title(f\"Graph with {n} vertices and start node {s} and destination {t}\")\n",
    "    plt.show()\n",
    "    '''\n",
    "    \n",
    "    if not nx.has_path(nx_graph,s,t):\n",
    "        assert len(path) == 0, f\"your bfs_path found an s-t path when there isn't one.\"\n",
    "    else:\n",
    "        # checks that the path returned is a real path in the graph, that it starts and ends \n",
    "        # at the right vertices, and that it is the shortest s-t path\n",
    "        assert nx.is_simple_path(nx_graph, path), f\"your bfs_path did not return a valid simple path\"\n",
    "        assert path[0] == s, f\"your bfs_path returned a valid simple path, but it does not start at node s\"\n",
    "        assert path[-1] == t, f\"your bfs_path returned a valid simple path, but it does not end at node t\"\n",
    "        assert dist + 1 == len(path), f\"your bfs_path did not return the shortest path\"\n",
    "\n",
    "print(\"Success\")"
   ]
  },
  {
   "cell_type": "code",
   "execution_count": null,
   "id": "aec945d4",
   "metadata": {
    "deletable": false,
    "editable": false
   },
   "outputs": [],
   "source": [
    "grader.check(\"q2\")"
   ]
  },
  {
   "cell_type": "markdown",
   "id": "e536aaf1",
   "metadata": {},
   "source": [
    "### Q3) Dijkstra's Algorithm\n",
    "If you need a refresher on how the algorithm works, check out pp.120-121 from DPV: https://people.eecs.berkeley.edu/~vazirani/algorithms/chap4.pdf#page=7. \n",
    "\n",
    "Here you'll implement Dijkstra's algorithm as outlined in the textbook. This function computes and returns the `distance` and `prev` lists. \n",
    "\n",
    "*Hints:*\n",
    "1) To implement Dijkstra's algorithm, we need to use a priority queue. The `heapq` library is the most commonly used for this purpose. See https://docs.python.org/3/library/heapq.html\n",
    "2) `heapq` maintains a min priority queue, which means that the top element is the smallest element.\n",
    "3) If tuples are pushed into a `heapq`, they will be sorted by the first element.\n",
    "4) `heapq` does not have a `decreaseKey` function. Think about how to get around this limitation using hint 3 and the fact once `distance[v]` has been set, it will never decrease (ie any future s-v paths found will be `distance[v]` or longer)"
   ]
  },
  {
   "cell_type": "code",
   "execution_count": null,
   "id": "c1027532",
   "metadata": {
    "tags": []
   },
   "outputs": [],
   "source": [
    "def shortest_path(adj_list, s):\n",
    "    \"\"\"\n",
    "    args:\n",
    "        adj_list:List[List[Tuple(int,int)]] =  an adjacency list representation of the undirected graph.\n",
    "                adj_list[v] consists of tuples (u, d) such that (v, u) is an edge of weight d.\n",
    "        s:int = an int representing the start vertex from which we need to find the shortest distances.\n",
    "    \n",
    "    return:\n",
    "        distance:List[int] = a dictionary d such that d[u] is the length of the shortest path\n",
    "                from s to u. By definition, d[V] = 0.\n",
    "        parent:List[int] = a dictionary p such that p[u] is the parent of u on the shortest path\n",
    "                from s to u. In other words, if the shortest path from s to u is (s, x, y, z, u),\n",
    "                then p[u] = z, p[z] = y, ..., p[x] = s. We define p[s] to be None.\n",
    "    \"\"\"\n",
    "    ..."
   ]
  },
  {
   "cell_type": "markdown",
   "id": "fe8b8ffa",
   "metadata": {},
   "source": [
    "### Debugging\n",
    "\n",
    "You can create sample tests in the following cells to help debug your solution. We provide a few small tests as an example, but they might not be comprehensive.\n",
    "\n",
    "To add a new graph to the test, append a new edge list to `edge_lists` as shown in the next cell.  \n",
    "__Remember that these edges are undirected, so do not add both directions of an edge, both (u,v) and (v,u) to the edge list. Since the edges here are weighted, the third element in the tuple represents the edge's weight. Note we only use integer weights in our tests.__"
   ]
  },
  {
   "cell_type": "code",
   "execution_count": null,
   "id": "a6d09c82",
   "metadata": {},
   "outputs": [],
   "source": [
    "edge_lists = []\n",
    "edge_lists.append([(0,1,1), (0,2,5), (1,2,2), (2,3,3), (3,4,6), (3,5,1), (4,5,1)])   # edge list of first graph\n",
    "edge_lists.append([(0,1,1), (0,2,5), (1,2,2), (3,4,6), (3,5,1), (4,5,1)])            # edge list of second graph\n",
    "# add any additional tests here"
   ]
  },
  {
   "cell_type": "raw",
   "id": "b3c0bbe2",
   "metadata": {},
   "source": [
    "For each test case you also need to add a starting node $s$, a destination node $t$, and $n$ the number of nodes in the graph, add them to the following lists. "
   ]
  },
  {
   "cell_type": "code",
   "execution_count": null,
   "id": "e83b88e1",
   "metadata": {},
   "outputs": [],
   "source": [
    "s_list = []\n",
    "s_list.append(0)  # s for first graph \n",
    "s_list.append(1)  # s for second graph \n",
    "# add any additional tests here\n",
    "\n",
    "t_list = []\n",
    "t_list.append(3)  # t for first graph\n",
    "t_list.append(4)  # t for second graph\n",
    "# add any additional tests here\n",
    "\n",
    "n_list = []\n",
    "n_list.append(6)  # n = 6 for first graph\n",
    "n_list.append(6)  # n = 6 for second graph\n",
    "# add any additional tests here"
   ]
  },
  {
   "cell_type": "markdown",
   "id": "4697d0f1",
   "metadata": {},
   "source": [
    "For each test case you also need to add the expected distance from $s$ to $t$. Add -1 if there is no $s-t$ path."
   ]
  },
  {
   "cell_type": "code",
   "execution_count": null,
   "id": "bd692a57",
   "metadata": {},
   "outputs": [],
   "source": [
    "expected_distance = []\n",
    "expected_distance.append(6)   # 0-2-3 is the shortest path in the first graph\n",
    "expected_distance.append(-1)  # there is no path from 1 to 4 in the second graph\n",
    "# add any additional tests here\n"
   ]
  },
  {
   "cell_type": "markdown",
   "id": "152c1d67",
   "metadata": {},
   "source": [
    "The following is a simplified version of the autograder, you may want to add more print statements or other debugging statements to check your function."
   ]
  },
  {
   "cell_type": "code",
   "execution_count": null,
   "id": "1c2ab062",
   "metadata": {},
   "outputs": [],
   "source": [
    "def make_weighted_adj_list(n, edge_list):\n",
    "    \"\"\"\n",
    "    args:\n",
    "        n:int = number of nodes in the graph. The nodes are labelled with integers 0 through n-1\n",
    "        edge_list:List[Tuple(int,int)] = edge list where each tuple (u,v) represents the undirected \n",
    "            edge (u,v) in the graph\n",
    "    return:\n",
    "        A List[List[int]] representing the adjacency list \n",
    "    \"\"\"\n",
    "    # using a list of lists\n",
    "    adj_list = [[] for i in range(0,n)] \n",
    "    for edge in edge_list:\n",
    "        adj_list[edge[0]].append((edge[1], edge[2])) # need to include both directions for the edge\n",
    "        adj_list[edge[1]].append((edge[0], edge[2]))\n",
    "    return adj_list\n",
    "\n",
    "import matplotlib.pyplot as plt\n",
    "index = 0\n",
    "for s, t, n, edge_list, dist in zip(s_list, t_list, n_list, edge_lists, expected_distance):\n",
    "    print(\"Testing graph:\", index)\n",
    "    index += 1\n",
    "    adj_list_graph = make_weighted_adj_list(n, edge_list) # function defined earlier\n",
    "    \n",
    "    distance, prev = shortest_path(adj_list_graph, s) \n",
    "    \n",
    "    nx_graph = nx.Graph()\n",
    "    for u,v,d in edge_list:\n",
    "        nx_graph.add_edge(u,v,weight=d)\n",
    "        \n",
    "    # uncomment the following to plot each graph\n",
    "    '''\n",
    "    nx.draw(nx_graph, with_labels=True)\n",
    "    plt.title(f\"Graph with {n} vertices and start node {s} and destination {t}\")\n",
    "    plt.show()\n",
    "    '''\n",
    "    \n",
    "    # check the distance arrays are correct\n",
    "    if not nx.has_path(nx_graph,s,t):\n",
    "        assert distance[t] == float('inf'), f\"your shortest_path found an s-t path when there isn't one.\"\n",
    "    else:\n",
    "        # checks that the path returned is a real path in the graph, that it starts and ends \n",
    "        # at the right vertices, and that it is the shortest s-t path\n",
    "        assert dist == distance[t], f\"your shortest_path did not return the shortest path\"\n",
    "\n",
    "print(\"Success\")"
   ]
  },
  {
   "cell_type": "markdown",
   "id": "82b2d55f",
   "metadata": {},
   "source": [
    "__Note we check distances using the `distance` array and shortest paths using the `parents` array.__"
   ]
  },
  {
   "cell_type": "code",
   "execution_count": null,
   "id": "0c33460b",
   "metadata": {
    "deletable": false,
    "editable": false
   },
   "outputs": [],
   "source": [
    "grader.check(\"q3\")"
   ]
  },
  {
   "cell_type": "markdown",
   "id": "3fd263a1",
   "metadata": {
    "deletable": false,
    "editable": false
   },
   "source": [
    "## Submission\n",
    "\n",
    "Make sure you have run all cells in your notebook in order before running the cell below, so that all images/graphs appear in the output. The cell below will generate a zip file for you to submit."
   ]
  },
  {
   "cell_type": "code",
   "execution_count": null,
   "id": "ae8a13c4",
   "metadata": {
    "deletable": false,
    "editable": false
   },
   "outputs": [],
   "source": [
    "grader.export(pdf=False, force_save=True, run_tests=True)"
   ]
  },
  {
   "cell_type": "markdown",
   "id": "b4c27621",
   "metadata": {},
   "source": [
    " "
   ]
  }
 ],
 "metadata": {
  "kernelspec": {
   "display_name": "Python 3 (ipykernel)",
   "language": "python",
   "name": "python3"
  },
  "language_info": {
   "codemirror_mode": {
    "name": "ipython",
    "version": 3
   },
   "file_extension": ".py",
   "mimetype": "text/x-python",
   "name": "python",
   "nbconvert_exporter": "python",
   "pygments_lexer": "ipython3",
   "version": "3.10.9"
  },
  "otter": {
   "OK_FORMAT": false,
   "assignment_name": "paths_on_graphs",
   "tests": {
    "q1": "from otter.test_files import test_case\n\nOK_FORMAT = False\n\nname = \"q1\"\npoints = 2.0\n\n@test_case(points=None, hidden=False)\ndef test_q1(dfs_path, nx, tqdm, np):\n    for n in tqdm.tqdm(range(20,1001,20)):\n        random_graph = nx.gnp_random_graph(n,0.0075)\n        \n        # this creates the adjacency list, this is necessary since for each undirected edge (u,v), both \n        # (u,v) and (v,u) should be in the list; however, nx.generate_adjlist(random_graph) only returns \n        # one of them\n        adj_list_graph = [[] for i in range(n)]\n        for u,line in zip(range(n),nx.generate_adjlist(random_graph)): \n            for v in line.split():\n                if int(v) != int(u):\n                    adj_list_graph[int(v)].append(int(u))\n                    adj_list_graph[int(u)].append(int(v))\n        \n        s = np.random.randint(n)\n        t = np.random.randint(n)\n\n        # bans networkx\n        nxall = nx\n        def error(*args, **kwargs):\n            nx = nxall\n            raise Exception(\"You may not call any graph libraries, modules, or functions.\")\n        nx = error\n        \n        try:\n            path = dfs_path(adj_list_graph, s, t)\n        except BaseException as error:\n            nx = nxall\n            raise Exception(f\"your dfs_path function raised an exception: {error}\")  \n        \n        nx = nxall\n        \n        if not nx.has_path(random_graph,s,t):\n            assert len(path) == 0, f\"your dfs_path found an s-t path when there isn't one.\"\n        else:\n            # checks that the path returned is a real path in the graph and that it starts and ends \n            # at the right vertices\n            assert nx.is_simple_path(random_graph, path), f\"your dfs_path did not return a valid simple path\"\n            assert path[0] == s, f\"your dfs_path returned a valid simple path, but it does not start at node s\"\n            assert path[-1] == t, f\"your dfs_path returned a valid simple path, but it does not end at node t\"\n\n",
    "q2": "from otter.test_files import test_case\n\nOK_FORMAT = False\n\nname = \"q2\"\npoints = 2.0\n\n@test_case(points=None, hidden=False)\ndef test_q2(bfs_path, nx, tqdm, np):\n    for n in tqdm.tqdm(range(20,1001,20)):\n        random_graph = nx.gnp_random_graph(n,0.0075)\n        \n        # this creates the adjacency list, this is necessary since for each undirected edge (u,v), both \n        # (u,v) and (v,u) should be in the list; however, nx.generate_adjlist(random_graph) only returns \n        # one of them        \n        adj_list_graph = [[] for i in range(n)]\n        for u,line in zip(range(n),nx.generate_adjlist(random_graph)):\n            for v in line.split():\n                if int(v) != int(u):\n                    adj_list_graph[int(v)].append(int(u))\n                    adj_list_graph[int(u)].append(int(v))\n        \n        s = np.random.randint(n)\n        t = np.random.randint(n)\n        \n        # bans networkx\n        nxall = nx\n        \n        def error(*args, **kwargs):\n            nx = nxall\n            raise Exception(\"You may not call any graph libraries, modules, or functions.\")\n        nx = error\n        \n        try:\n            path = bfs_path(adj_list_graph, s, t)\n        except BaseException as error:\n            nx = nxall\n            raise Exception(f\"your bfs_path function raised an exception: {error}\")  \n        \n        nx = nxall\n        if not nx.has_path(random_graph,s,t):\n            assert len(path) == 0, f\"your bfs_path found an s-t path when there isn't one.\"\n        else:\n            # checks that the path returned is a real path in the graph, that it starts and ends \n            # at the right vertices, and that it is the shortest s-t path\n            assert nx.is_simple_path(random_graph, path), f\"your bfs_path did not return a valid simple path\"\n            assert path[0] == s, f\"your bfs_path returned a valid simple path, but it does not start at node s\"\n            assert path[-1] == t, f\"your bfs_path returned a valid simple path, but it does not end at node t\"\n            assert len(nx.shortest_path(random_graph, s, t)) == len(path), f\"your bfs_path did not return the shortest path\"\n            \n",
    "q3": "from otter.test_files import test_case\n\nOK_FORMAT = False\n\nname = \"q3\"\npoints = 2.0\n\n@test_case(points=None, hidden=False)\ndef verify_using_random_graphs(tqdm, nx, shortest_path, np):\n    def get_path(w, parent):\n        \"\"\"\n        Take in a vertex s and a dictionary PARENT, as described in the docstring\n        for the shortest_path method, and return the path from s to w, where s\n        is the vertex from which we ran Dijkstra's algorithm.\n        \"\"\"\n        seen = set()\n        path = []\n        while w is not None:\n            if w in seen:\n                raise Exception(\"path contains a cycle!\")\n            seen.add(w)\n            path.append(w)\n            w = parent[w]\n        path.reverse()\n        return path\n\n    def get_distance(w, distance):\n        \"\"\"\n        Take in a vertex W and a dictionary DISTANCE, as described in the docstring\n        for the shortest_path method, and return the length of the shortest path from V to W,\n        where V is the vertex from which we ran Dijkstra's algorithm.\n        \"\"\"\n        return distance[w]\n\n    for n in tqdm.tqdm(range(10,510,10)):\n        nx_graph = nx.gnp_random_graph(n, 0.2)\n        while not nx.is_connected(nx_graph):\n            nx_graph = nx.gnp_random_graph(n, 0.2)\n            \n        # this creates the adjacency list, this is necessary since for each undirected edge (u,v), both \n        # (u,v) and (v,u) should be in the list; however, nx.generate_adjlist(random_graph) only returns \n        # one of them\n        for (u, v, w) in nx_graph.edges(data=True):\n            w['weight'] = np.random.randint(0, 20)\n        adj_list_graph = [[] for i in range(n)]\n        for u,line in zip(range(n),nx.generate_adjlist(nx_graph)):\n            for v in line.split():\n                if int(v) != int(u):\n                    adj_list_graph[int(v)].append((int(u), nx_graph[int(u)][int(v)]['weight']))\n                    adj_list_graph[int(u)].append((int(v), nx_graph[int(u)][int(v)]['weight']))\n        \n        start_vertex = np.random.randint(n)\n        \n        # bans networkx\n        nxall = nx\n        \n        def error(*args, **kwargs):\n            nx = nxall\n            raise Exception(\"You may not call any graph libraries, modules, or functions.\")\n        nx = error\n        \n        distance, parent = [],[]\n        try:\n            distance, parent = shortest_path(adj_list_graph, start_vertex)\n        except BaseException as error:\n            nx = nxall\n            raise Exception(f\"your shortest_path function raised an exception: {error}\")  \n\n        nx = nxall\n        \n        # given the start_vertex, checks that for all vertices in the graph, the distance returned is correct\n        # and that the paths provided are valid s-t paths with the correct length\n        nx_distances = nx.single_source_dijkstra_path_length(nx_graph, start_vertex, weight='weight')\n        for vertex in nx_graph.nodes:\n            student_path = get_path(vertex, parent)\n            nx_distance = nx_distances[vertex]\n            student_distance = get_distance(vertex, distance)\n            \n            assert nx.is_simple_path(nx_graph, student_path), f\"your shortest_path did not return a valid simple path\"\n            assert student_path[0] == start_vertex, f\"your shortest_path returned a valid simple path, but it does not start at node s\"\n            assert student_path[-1] == vertex, f\"your shortest_path returned a valid simple path, but it does not end at node t\"\n            assert nx_distance == student_distance, f\"your shortest_path function returned a distance of {student_distance}, but the correct distance {nx_distance}\"\n            \n            total_distance_of_path = 0\n            for i in range(1, len(student_path)):\n                from_v = student_path[i - 1]\n                to_v = student_path[i]\n                assert (from_v, to_v) in nx_graph.edges()\n                total_distance_of_path += nx_graph[from_v][to_v]['weight']\n            assert total_distance_of_path == nx_distance, f\"your shortest_path function returned a distance array indicating that the distance between two nodes is {student_distance}, but path constructed using the prev array has a length of {total_distance_of_path}\"\n\n"
   }
  },
  "vscode": {
   "interpreter": {
    "hash": "5c7b89af1651d0b8571dde13640ecdccf7d5a6204171d6ab33e7c296e100e08a"
   }
  }
 },
 "nbformat": 4,
 "nbformat_minor": 5
}
