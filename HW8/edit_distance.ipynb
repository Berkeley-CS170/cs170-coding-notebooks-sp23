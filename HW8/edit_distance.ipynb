{
 "cells": [
  {
   "cell_type": "code",
   "execution_count": null,
   "metadata": {
    "deletable": false,
    "editable": false
   },
   "outputs": [],
   "source": [
    "# Initialize Otter\n",
    "import otter\n",
    "grader = otter.Notebook(\"edit_distance.ipynb\")"
   ]
  },
  {
   "cell_type": "markdown",
   "metadata": {},
   "source": [
    "### Please restart the kernel after running next cell"
   ]
  },
  {
   "cell_type": "code",
   "execution_count": null,
   "metadata": {},
   "outputs": [],
   "source": [
    "# version shenanigans\n",
    "!pip install -r requirements.txt --quiet\n",
    "import otter\n",
    "grader = otter.Notebook(\"edit_distance.ipynb\")\n",
    "assert otter.__version__ >= \"4.2.0\", \"Please restart your kernel.\""
   ]
  },
  {
   "cell_type": "code",
   "execution_count": null,
   "metadata": {},
   "outputs": [],
   "source": [
    "import string\n",
    "import random\n",
    "import pylev\n",
    "import tqdm\n",
    "import time"
   ]
  },
  {
   "cell_type": "markdown",
   "metadata": {},
   "source": [
    "## Global Alignment\n",
    "\n",
    "The edit distance problem finds the minimal number of insertions, deletions and substitutions of characters required to transform one word into another. A big application of this problem is finding the global alignment between two strings, which is often used in computational biology. \n",
    "\n",
    "As described in the textbook https://people.eecs.berkeley.edu/~vazirani/algorithms/chap6.pdf#page=6.\n",
    "\n",
    "> A natural measure of the distance between two strings is the extent to which they can be aligned, or matched up. Technically, an alignment is simply a way of writing the strings one above the other. For instance, here are two possible alignments of SNOWY and SUNNY:\n",
    "\n",
    ">    S−NOWY  |  −SNOW−Y <br />\n",
    ">    SUNN−Y   &nbsp;|  SUN−−NY <br />\n",
    ">    Cost: 3  &nbsp;&nbsp;&nbsp;&nbsp;| Cost: 5\n",
    "\n",
    ">The “−” indicates a “gap”; any number of these can be placed in either string. The cost of an alignment is the number of columns in which the letters differ. And the edit distance between two strings is the cost of their best possible alignment. \n",
    "\n",
    "In this problem, you will implement an algorithm to compute the alignment between two strings $x$ and $y$, specifically, your algorithm should return the global alignment (as shown above), not just an integer value denoting the edit distance. "
   ]
  },
  {
   "cell_type": "markdown",
   "metadata": {},
   "source": [
    "### The following section will walk you through how to implement this algorithm.  \n",
    "#### **This section contains ungraded multiple choice questions to test your understanding. If you like, you may skip to the last question which is the only graded question.**\n",
    "\n",
    "Inputs: \n",
    "- x:string = length n string\n",
    "- y:string = length m string\n",
    "\n",
    "Algorithm Sketch:\n",
    "1. Compute the dp subproblems as described in class and the textbook\n",
    "2. Using the memoized subproblems from step 1, reconstructing the optimal global alignment \n",
    "\n",
    "\n",
    "Step 1 can be computed by simply implementing the pseudocode described in the textbook. \n",
    "\n",
    "Step 2 can be computed using an approach called backtracking which we walk through here. Recall that all DP have underlying DAG's where nodes represent subproblems. See https://people.eecs.berkeley.edu/~vazirani/algorithms/chap6.pdf#page=9. On this DAG, the DP algorithm finds the shortest path from `(0,0)` to `(n,m)`. The length of the shortest path is our edit distance, and the edges in the path correspond to the global alignment. In our back tracking algorithm, we start at `(n,m)` and reconstruct the shortest path to `(0,0)`. Since we start with `(n,m)` and end at `(0,0)`, we are back tracking the computations we did in step 1, hence the name. \n",
    "\n",
    "__Sanity Check (ungraded):__\n",
    "Suppose we computed the DP matrix on the strings `x` and `y` want to find the edit distance between the first `5` characters of `x` and the first `6` characters of `y`. On the underlying DAG, this corresponds to the shortest path from `(0,0)` to which node? Give your answer as a tuple containing 2 integers."
   ]
  },
  {
   "cell_type": "code",
   "execution_count": null,
   "metadata": {
    "tags": []
   },
   "outputs": [],
   "source": [
    "node = ..."
   ]
  },
  {
   "cell_type": "code",
   "execution_count": null,
   "metadata": {
    "deletable": false,
    "editable": false
   },
   "outputs": [],
   "source": [
    "grader.check(\"s1\")"
   ]
  },
  {
   "cell_type": "markdown",
   "metadata": {},
   "source": [
    "Now suppose that we have a way to reconstruct this shortest path, we need to convert the edges on this path into the actual alignment. \n",
    "\n",
    "__Sanity Check (ungraded):__ Suppose that our algorithm backtracks to node `(i,j)` and determines that the edge `(i-1,j)->(i,j)` is in this shortest path. So far, the algorithm computed 2 strings `x_align` and `y_align` based on the path from `(i,j)` to `(n,m)`. These correspond to an alignment of the substrings `x[i:n]` and `y[j:n]`. Given this new edge, what characters should you add to `x_align` and `y_align`? Input your answer choice as list of ints (ie `ans = [1]` or `ans = [1,2]`), where each int represents one of the following choices:\n",
    "\n",
    "1. add a gap to the start of `x_align`\n",
    "2. add a gap to the start of `y_align`\n",
    "3. add `x[i-1]` to the start of `x_align`\n",
    "4. add `y[j-1]` to the start of `y_align`\n",
    "\n",
    "*Hint: a character must be added to both strings since at each step, `len(x_align) == len(y_align)`.*"
   ]
  },
  {
   "cell_type": "code",
   "execution_count": null,
   "metadata": {
    "tags": []
   },
   "outputs": [],
   "source": [
    "ans = ..."
   ]
  },
  {
   "cell_type": "code",
   "execution_count": null,
   "metadata": {
    "deletable": false,
    "editable": false
   },
   "outputs": [],
   "source": [
    "grader.check(\"s2\")"
   ]
  },
  {
   "cell_type": "markdown",
   "metadata": {},
   "source": [
    "__Sanity Check (ungraded):__ Suppose that our algorithm backtracks to node `(i,j)` and determines that the edge `(i,j-1)->(i,j)` is in this shortest path. So far, the algorithm computed 2 strings `x_align` and `y_align` based on the path from `(i,j)` to `(n,m)`. These correspond to an alignment of the substrings `x[i:n]` and `y[j:n]`. Given this new edge, what characters should you add to `x_align` and `y_align`? Input your answer choice as list of ints (ie `ans = [1]` or `ans = [1,2]`), where each int represents one of the following choices:\n",
    "\n",
    "1. add a gap to the start of `x_align`\n",
    "2. add a gap to the start of `y_align`\n",
    "3. add `x[i-1]` to the start of `x_align`\n",
    "4. add `y[j-1]` to the start of `y_align`\n",
    "\n",
    "*Hint: a character must be added to both strings since at each step, `len(x_align) == len(y_align)`.*"
   ]
  },
  {
   "cell_type": "code",
   "execution_count": null,
   "metadata": {
    "tags": []
   },
   "outputs": [],
   "source": [
    "ans = ..."
   ]
  },
  {
   "cell_type": "code",
   "execution_count": null,
   "metadata": {
    "deletable": false,
    "editable": false
   },
   "outputs": [],
   "source": [
    "grader.check(\"s3\")"
   ]
  },
  {
   "cell_type": "markdown",
   "metadata": {},
   "source": [
    "__Sanity Check (ungraded):__ Suppose that our algorithm backtracks to node `(i,j)` and determines that the edge `(i-1,j-1)->(i,j)` is in this shortest path. So far, the algorithm computed 2 strings `x_align` and `y_align` based on the path from `(i,j)` to `(n,m)`. These correspond to an alignment of the substrings `x[i:n]` and `y[j:n]`. Given this new edge, what characters should you add to `x_align` and `y_align`? Input your answer choice as list of ints (ie `ans = [1]` or `ans = [1,2]`), where each int represents one of the following four choices:\n",
    "\n",
    "1. add a gap to the start of `x_align`\n",
    "2. add a gap to the start of `y_align`\n",
    "3. add `x[i-1]` to the start of `x_align`\n",
    "4. add `y[j-1]` to the start of `y_align`\n",
    "\n",
    "*Hint: a character must be added to both strings since at each step, `len(x_align) == len(y_align)`.*"
   ]
  },
  {
   "cell_type": "code",
   "execution_count": null,
   "metadata": {
    "tags": []
   },
   "outputs": [],
   "source": [
    "ans = ..."
   ]
  },
  {
   "cell_type": "code",
   "execution_count": null,
   "metadata": {
    "deletable": false,
    "editable": false
   },
   "outputs": [],
   "source": [
    "grader.check(\"s4\")"
   ]
  },
  {
   "cell_type": "markdown",
   "metadata": {},
   "source": [
    "Since we know how to translate edges into global alignment, we now want to reconstruct the actual path from `(n,m)` to `(0,0)`. If an edge `(a,b)->(c,d)` is part of the shortest path, this means the subproblem `(a,b)` was used to compute the solution to `(c,d)`. For the edit distance problem, we know that the subproblem `(i,j)` is computed from the either `(i-1,j)`, `(i,j-1)`, or `(i-1,j-1)`. Therefore, if the node `(i,j)` is visited in the shortest path, then one of the edges `(i-1,j)->(i,j)`, `(i,j-1)->(i,j)`, or `(i-1,j-1)->(i,j)` is in the shortest path. \n",
    "\n",
    "We can figure out the correct edge based on the values in the dp matrix. Recall the recurrence of edit distance: `dp[i][j] = min(dp[i - 1][j] + 1, dp[i][j - 1] + 1, dp[i - 1][j - 1] + diff(i,j))`. This means that at least one of the three values `dp[i - 1][j] + 1`, `dp[i][j - 1] + 1`, or `dp[i - 1][j - 1] + diff(i,j)` must equal `dp[i][j]`. If the value equals `dp[i][j]`, then that is a possible previous subproblem; otherwise, it is not. If there are multiple possible previous problems, you may back track to any one of them. "
   ]
  },
  {
   "cell_type": "markdown",
   "metadata": {},
   "source": [
    "__Sanity Check (ungraded):__ Suppose you know that `dp[i][j] = 5` and following values in the DP matrix. Which subproblems could be used to compute `dp[i][j]`? Input your answer choice as list of ints (ie `ans = [1]` or `ans = [1,2]`)\n",
    "1. `dp[i-1][j] = 4`\n",
    "2. `dp[i][j-1] = 5`\n",
    "3. `dp[i-1][j-1] = 5, diff(i,j) = 0`"
   ]
  },
  {
   "cell_type": "code",
   "execution_count": null,
   "metadata": {
    "tags": []
   },
   "outputs": [],
   "source": [
    "ans = ..."
   ]
  },
  {
   "cell_type": "code",
   "execution_count": null,
   "metadata": {
    "deletable": false,
    "editable": false
   },
   "outputs": [],
   "source": [
    "grader.check(\"s5\")"
   ]
  },
  {
   "cell_type": "markdown",
   "metadata": {},
   "source": [
    "__Sanity Check (ungraded):__ Suppose you know that `dp[i][j] = 9` and following values in the DP matrix. Which subproblems could be used to compute `dp[i][j]`? Input your answer choice as list of ints (ie `ans = [1]` or `ans = [1,2]`)\n",
    "1. `dp[i-1][j] = 9`\n",
    "2. `dp[i][j-1] = 8`\n",
    "3. `dp[i-1][j-1] = 9, diff(i,j) = 1`"
   ]
  },
  {
   "cell_type": "code",
   "execution_count": null,
   "metadata": {
    "tags": []
   },
   "outputs": [],
   "source": [
    "ans = ..."
   ]
  },
  {
   "cell_type": "code",
   "execution_count": null,
   "metadata": {
    "deletable": false,
    "editable": false
   },
   "outputs": [],
   "source": [
    "grader.check(\"s6\")"
   ]
  },
  {
   "cell_type": "markdown",
   "metadata": {},
   "source": [
    "Following this logic, we start at `(n,m)` and repeatedly find the previous node until we reach `(0,0)`. Each time we backtrack one step, we update the alignment based on the edge we took."
   ]
  },
  {
   "cell_type": "markdown",
   "metadata": {},
   "source": [
    "## Edit Distance (graded)"
   ]
  },
  {
   "cell_type": "code",
   "execution_count": null,
   "metadata": {
    "tags": []
   },
   "outputs": [],
   "source": [
    "def edit_distance(x, y):\n",
    "    \"\"\"\n",
    "    args:\n",
    "        x:string = the first word.\n",
    "        y:string = The second word.\n",
    "    \n",
    "    return:\n",
    "        Tuple[String,String] = the optimum global alignment between x and y. The first string in the \n",
    "        tuple corresponds to x and the second to y. Use hypen's '-' to represent gaps in each string.\n",
    "    \"\"\"\n",
    "    ...\n"
   ]
  },
  {
   "cell_type": "markdown",
   "metadata": {},
   "source": [
    "__Note: your solution should not take inordinate amounts of time to run. If it takes more than 60 seconds to run, it is too slow. The staff solution takes 20 seconds on average.__"
   ]
  },
  {
   "cell_type": "code",
   "execution_count": null,
   "metadata": {
    "deletable": false,
    "editable": false
   },
   "outputs": [],
   "source": [
    "grader.check(\"edit_distance\")"
   ]
  },
  {
   "cell_type": "markdown",
   "metadata": {},
   "source": [
    "### Debugging\n",
    "A simplified verion of the otter tests are pasted here for your convenience. Feel free to add whatever print statements or assertions you'd like when debugging."
   ]
  },
  {
   "cell_type": "code",
   "execution_count": null,
   "metadata": {},
   "outputs": [],
   "source": [
    "start = time.time()\n",
    "def check_word(original, aligned):\n",
    "    ''' checks that the string `aligned` is obtained by only adding gaps to the string `original`'''\n",
    "\n",
    "    assert len(aligned) >= len(original), \"your function returned a string which is shorter than the input string!\"\n",
    "    i,j = 0,0\n",
    "    while i < len(original) and j < len(aligned):\n",
    "        while aligned[j] == '-' and j < len(aligned):\n",
    "            j += 1\n",
    "        assert original[i] == aligned[j], \"your function returned a string which cannot be produced by only adding gaps!\"\n",
    "        i += 1\n",
    "        j += 1\n",
    "    while j < len(aligned):\n",
    "        assert aligned[j] == '-', \"your function returned a string which cannot be produced by only adding gaps!\"\n",
    "        j += 1\n",
    "\n",
    "NUM_TRIALS = 200\n",
    "LETTERS = string.ascii_lowercase\n",
    "MIN_WORD_SIZE = 250\n",
    "MAX_WORD_SIZE = 500\n",
    "\n",
    "letters = string.ascii_lowercase\n",
    "for i in tqdm.tqdm(range(NUM_TRIALS)):\n",
    "    word1_size = random.randint(MIN_WORD_SIZE, MAX_WORD_SIZE)\n",
    "    word2_size = random.randint(MIN_WORD_SIZE, MAX_WORD_SIZE)\n",
    "    word1 = ''.join(random.choice(letters) for i in range(word1_size))\n",
    "    word2 = ''.join(random.choice(letters) for i in range(word2_size))\n",
    "    align1,align2 = edit_distance(word1, word2)\n",
    "\n",
    "    assert len(align1) == len(align2), f\"\"\"a global alignment requires the two strings to be the same \n",
    "        length, your functions returns two strings of length {len(align1)} and {len(align2)}!\"\"\"\n",
    "\n",
    "    check_word(word1, align1)\n",
    "    check_word(word2, align2)\n",
    "\n",
    "    dist = 0\n",
    "    for a,b in zip(align1,align2):\n",
    "        if a != b:\n",
    "            dist += 1\n",
    "    staff_distance = pylev.levenshtein(word1, word2)\n",
    "    assert staff_distance == dist, f\"\"\"the inputs have an edit distance of {staff_distance}, but your\n",
    "        strings have a distance of {dist}.\"\"\"\n",
    "finish = time.time()\n",
    "assert finish - start < 60, \"your solution timed out\"\n"
   ]
  },
  {
   "cell_type": "markdown",
   "metadata": {
    "deletable": false,
    "editable": false
   },
   "source": [
    "## Submission\n",
    "\n",
    "Make sure you have run all cells in your notebook in order before running the cell below, so that all images/graphs appear in the output. The cell below will generate a zip file for you to submit."
   ]
  },
  {
   "cell_type": "code",
   "execution_count": null,
   "metadata": {
    "deletable": false,
    "editable": false
   },
   "outputs": [],
   "source": [
    "grader.export(pdf=False, force_save=True, run_tests=True)"
   ]
  },
  {
   "cell_type": "markdown",
   "metadata": {},
   "source": [
    " "
   ]
  }
 ],
 "metadata": {
  "kernelspec": {
   "display_name": "Python 3",
   "language": "python",
   "name": "python3"
  },
  "language_info": {
   "codemirror_mode": {
    "name": "ipython",
    "version": 3
   },
   "file_extension": ".py",
   "mimetype": "text/x-python",
   "name": "python",
   "nbconvert_exporter": "python",
   "pygments_lexer": "ipython3",
   "version": "3.10.9"
  },
  "otter": {
   "OK_FORMAT": false,
   "assignment_name": "edit_distance",
   "tests": {
    "edit_distance": "from otter.test_files import test_case\n\nOK_FORMAT = False\n\nname = \"edit_distance\"\npoints = 6\n\n@test_case(points=None, hidden=False)\ndef test_edit_distance(edit_distance,tqdm,random,string, time, pylev):\n    start = time.time()\n    def check_word(original, aligned):\n        ''' checks that the string `aligned` is obtained by only adding gaps to the string `original`'''\n        \n        assert len(aligned) >= len(original), \"your function returned a string which is shorter than the input string!\"\n        i,j = 0,0\n        while i < len(original) and j < len(aligned):\n            while aligned[j] == '-' and j < len(aligned):\n                j += 1\n            assert original[i] == aligned[j], \"your function returned a string which cannot be produced by only adding gaps!\"\n            i += 1\n            j += 1\n        while j < len(aligned):\n            assert aligned[j] == '-', \"your function returned a string which cannot be produced by only adding gaps!\"\n            j += 1\n            \n    NUM_TRIALS = 200\n    LETTERS = string.ascii_lowercase\n    MIN_WORD_SIZE = 250\n    MAX_WORD_SIZE = 500\n    \n    letters = string.ascii_lowercase\n    for i in tqdm.tqdm(range(NUM_TRIALS)):\n        word1_size = random.randint(MIN_WORD_SIZE, MAX_WORD_SIZE)\n        word2_size = random.randint(MIN_WORD_SIZE, MAX_WORD_SIZE)\n        word1 = ''.join(random.choice(letters) for i in range(word1_size))\n        word2 = ''.join(random.choice(letters) for i in range(word2_size))\n        align1,align2 = edit_distance(word1, word2)\n        \n        assert len(align1) == len(align2), f\"\"\"a global alignment requires the two strings to be the same \n            length, your functions returns two strings of length {len(align1)} and {len(align2)}!\"\"\"\n        \n        check_word(word1, align1)\n        check_word(word2, align2)\n        \n        dist = 0\n        for a,b in zip(align1,align2):\n            if a != b:\n                dist += 1\n        staff_distance = pylev.levenshtein(word1, word2)\n        assert staff_distance == dist, f\"\"\"the inputs have an edit distance of {staff_distance}, but your\n            strings have a distance of {dist}.\"\"\"\n    finish = time.time()\n    assert finish - start < 60, \"your solution timed out\"\n\n",
    "s1": "from otter.test_files import test_case\n\nOK_FORMAT = False\n\nname = \"s1\"\npoints = 0\n\n@test_case(points=None, hidden=False)\ndef test_s1(node):\n    sol = (5,6)\n    assert node == sol, f\"try again, {node} is not the correct node\"\n\n",
    "s2": "from otter.test_files import test_case\n\nOK_FORMAT = False\n\nname = \"s2\"\npoints = 0\n\n@test_case(points=None, hidden=False)\ndef test_s2(ans):\n    sol = [2,3]\n    assert sorted(ans) == sol, f\"Try again, {ans} is not the correct answer.\"\n    print(\"Correct, an edge (i-1,j)->(i,j) corresponds to deleting a character from x in our original edit distance. In terms of global alignment, this is equivalent to adding a gap to y and having that gap correspond to the next character in x which is x[i-1]\")\n\n",
    "s3": "from otter.test_files import test_case\n\nOK_FORMAT = False\n\nname = \"s3\"\npoints = 0\n\n@test_case(points=None, hidden=False)\ndef test_s3(ans):\n    sol = [1,4]\n    assert sorted(ans) == sol, f\"Try again, {ans} is not the correct answer.\"\n    print(\"Correct, an edge (i,j-1)->(i,j) corresponds to inserting a character int x in our original edit distance. In terms of global alignment, this is equivalent to adding a gap to x and having that gap correspond to the next character in y which is y[j-1]\")\n\n",
    "s4": "from otter.test_files import test_case\n\nOK_FORMAT = False\n\nname = \"s4\"\npoints = 0\n\n@test_case(points=None, hidden=False)\ndef test_s4(ans):\n    sol = [3,4]\n    assert sorted(ans) == sol, f\"Try again, {ans} is not the correct answer.\"\n    print(\"Correct, an edge (i-1,j-1)->(i,j) corresponds to substituting a character int x in our original edit distance. In terms of global alignment, this is equivalent to adding the next characters of both x and y.\")\n\n",
    "s5": "from otter.test_files import test_case\n\nOK_FORMAT = False\n\nname = \"s5\"\npoints = 0\n\n@test_case(points=None, hidden=False)\ndef test_s5(ans):\n    assert sorted(ans) == [1,3], f\"Try again, {ans} is not the correct answer.\"\n    print(\"Correct, since dp[i][j] = dp[i-1][j] + 1 and dp[i][j] = dp[i-1][j-1] + diff(i,j)\")\n\n",
    "s6": "from otter.test_files import test_case\n\nOK_FORMAT = False\n\nname = \"s6\"\npoints = 0\n\n@test_case(points=None, hidden=False)\ndef test_s6(ans):\n    assert sorted(ans) == [2], f\"Try again, {ans} is not the correct answer.\"\n    print(\"Correct, since dp[i][j] = dp[i][j-1] + 1\")\n\n"
   }
  },
  "vscode": {
   "interpreter": {
    "hash": "916dbcbb3f70747c44a77c7bcd40155683ae19c65e1c03b4aa3499c5328201f1"
   }
  }
 },
 "nbformat": 4,
 "nbformat_minor": 2
}
