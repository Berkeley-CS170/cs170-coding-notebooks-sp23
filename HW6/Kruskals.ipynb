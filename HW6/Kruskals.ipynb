{
 "cells": [
  {
   "cell_type": "code",
   "execution_count": null,
   "id": "e24b9560",
   "metadata": {
    "deletable": false,
    "editable": false
   },
   "outputs": [],
   "source": [
    "# Initialize Otter\n",
    "import otter\n",
    "grader = otter.Notebook(\"Kruskals.ipynb\")"
   ]
  },
  {
   "cell_type": "markdown",
   "id": "feae5d2c",
   "metadata": {},
   "source": [
    "### Please restart the kernel after running next cell"
   ]
  },
  {
   "cell_type": "code",
   "execution_count": null,
   "id": "3e942759",
   "metadata": {},
   "outputs": [],
   "source": [
    "# version shenanigans\n",
    "!pip install -r requirements.txt --quiet\n",
    "import otter\n",
    "grader = otter.Notebook(\"Kruskals.ipynb\")\n",
    "assert otter.__version__ >= \"4.2.0\", \"Please restart your kernel.\""
   ]
  },
  {
   "cell_type": "code",
   "execution_count": null,
   "id": "05853e17",
   "metadata": {},
   "outputs": [],
   "source": [
    "from heapq import heappush, heappop\n",
    "import numpy as np\n",
    "import networkx as nx\n",
    "import tqdm\n",
    "import time"
   ]
  },
  {
   "cell_type": "markdown",
   "id": "302be317",
   "metadata": {},
   "source": [
    "### Union Find Data Structure\n",
    "Below is an implementation of the union find data structure. You may find it useful for your implementation of Kruskal's algorithm later on.\n"
   ]
  },
  {
   "cell_type": "code",
   "execution_count": null,
   "id": "c6791347",
   "metadata": {},
   "outputs": [],
   "source": [
    "class UnionFind:\n",
    "    def __init__(self, n):\n",
    "        '''\n",
    "        args:\n",
    "            n:int = number of nodes in the union find data structures. Nodes are index \n",
    "                by integers between 0 and n-1\n",
    "        '''\n",
    "        self.n = n\n",
    "        self.parents = [i for i in range(n)]\n",
    "        self.rank = [1]*n\n",
    "    \n",
    "    def find(self, i):\n",
    "        '''\n",
    "        args:\n",
    "            i:int = index of some node\n",
    "        returns:\n",
    "            an integer representing the root of the set in which node i belongs\n",
    "        '''\n",
    "        assert i >= 0 and i <= self.n-1, f\"Node {i} is not in the data structure. Only nodes {0} through {n-1} exist.\"\n",
    "        if i != self.parents[i]:\n",
    "            self.parents[i] = self.find(self.parents[i])\n",
    "        return self.parents[i]\n",
    "    \n",
    "    def union(self, i, j):\n",
    "        '''\n",
    "        args:\n",
    "            i:int = index of some node\n",
    "            j:int = index of some node\n",
    "            \n",
    "        joins the sets containing nodes i and j\n",
    "        '''\n",
    "        assert i >= 0 and i <= self.n-1, f\"Node {i} is not in the data structure. Only nodes {0} through {n-1} exist.\"\n",
    "        assert j >= 0 and j <= self.n-1, f\"Node {j} is not in the data structure. Only nodes {0} through {n-1} exist.\"\n",
    "        \n",
    "        pi, pj = self.find(i), self.find(j)\n",
    "        if pi != pj:\n",
    "            if self.rank[pi] < self.rank[pj]:\n",
    "                self.parents[pi] = pj\n",
    "            elif self.rank[pi] > self.rank[pj]:\n",
    "                self.parents[pi] = pi\n",
    "            else:\n",
    "                self.parents[pi] = pj\n",
    "                self.rank[pi] += 1\n",
    "                "
   ]
  },
  {
   "cell_type": "markdown",
   "id": "ab322e9d",
   "metadata": {},
   "source": [
    "### Q1. Kruskal's MST Algorithm\n",
    "\n",
    "Now it is time to implement Kruskal's algorithm! Implement the following function which returns a list of edges representing a minimum spanning tree. If the graph is not connected, you should return None\n",
    "\n",
    "Note that nodes in the graph are labelled with integers between 0 and n-1.\n",
    "\n",
    "You may not use any built in libraries or modules to compute the MST.\n",
    "\n",
    "_Hints:_\n",
    "1) You're given the adjacency list representation of the graph; however, Kruskal's does not use adjacecny lists. Convert your adjacecny list to an edge list in linear time.\n",
    "2) By default, the `sort()` and `sorted()` functions sort lists of tuples in ascending order based on their first element."
   ]
  },
  {
   "cell_type": "markdown",
   "id": "cf696fd7",
   "metadata": {},
   "source": [
    "__Note: your solution should not take inordinate amounts of time to run. If it takes more than 60 seconds to run, it is too slow__"
   ]
  },
  {
   "cell_type": "code",
   "execution_count": null,
   "id": "61d2a36b",
   "metadata": {
    "tags": []
   },
   "outputs": [],
   "source": [
    "def kruskal(G):\n",
    "    \"\"\"\n",
    "    args:\n",
    "        G:List[List[Tuple[int,int]]] = The input graph G is represented as a list of n lists, where \n",
    "            each element of the list G[u] (where u is an integer between 0 and n-1) is a tuple with \n",
    "            2 elements: (v, w) means there's an edge $(u,v)$ of weight $w$.\n",
    "            \n",
    "            You can assume that we will only feed simple graphs G to your implementation as input. \n",
    "            Also G is undirected, so if an edge (u,v) exists it will be found in both G[u] and G[v].\n",
    "    \n",
    "    returns:\n",
    "        List[Tuple[int,int]] = a list of edges belonging to an MST or None if the graph is not connected. Do not\n",
    "            return the edge weights. If there's an edge (u,v) with weight w, only return (u,v)\n",
    "    \"\"\"\n",
    "    ...\n",
    "            "
   ]
  },
  {
   "cell_type": "code",
   "execution_count": null,
   "id": "0fe40c45",
   "metadata": {
    "deletable": false,
    "editable": false
   },
   "outputs": [],
   "source": [
    "grader.check(\"q1\")"
   ]
  },
  {
   "cell_type": "markdown",
   "id": "167f5c84",
   "metadata": {},
   "source": [
    "### Debugging\n",
    "The otter tests are pasted here for your convenience. Feel free to add whatever print statements or assertions you'd like when debugging."
   ]
  },
  {
   "cell_type": "code",
   "execution_count": null,
   "id": "48065e27",
   "metadata": {},
   "outputs": [],
   "source": [
    "def test_q1(nx, tqdm, np, kruskal):\n",
    "    for n in tqdm.tqdm(range(10,1000,15)):\n",
    "        random_graph = nx.gnp_random_graph(n,0.08)\n",
    "        edge_list = random_graph.edges\n",
    "        G = [[] for _ in range(n)]\n",
    "        for e in edge_list:\n",
    "            w = np.random.randint(-1000, 1000)\n",
    "            \n",
    "            # create adjacency list\n",
    "            G[e[0]].append((e[1], w))\n",
    "            G[e[1]].append((e[0], w))\n",
    "            \n",
    "            # add weights to networkx graph\n",
    "            random_graph[e[0]][e[1]]['weight'] = w\n",
    "            random_graph[e[1]][e[0]]['weight'] = w\n",
    "            \n",
    "        # check that the correct number of edges are returned\n",
    "        T1 = kruskal(G)\n",
    "        if not nx.is_connected(random_graph):\n",
    "            assert T1 is None, f\"kruskal did not return None for a unconnected graph!\"\n",
    "            continue\n",
    "        assert T1 is not None, f\"kruskal returned None for a connected graph!\"\n",
    "        assert len(T1) == n-1, f\"kruskal returned {len(T1)} edges rather than n-1 edges on a connected graph!\"\n",
    "        for e in T1:\n",
    "            assert random_graph.has_edge(e[0], e[1]), f\"kruskal returned an edge that's not in the graph!\"\n",
    "        \n",
    "        # Check that the edge lists forms a tree. Since we already checked that it contains n-1 edges, \n",
    "        # this condition ensures that the tree is a spanning tree.\n",
    "        TG = nx.Graph()\n",
    "        TG.add_edges_from(T1)\n",
    "        nx.is_tree(TG)\n",
    "        \n",
    "        # check that the weight of the spanning tree is correct\n",
    "        w1 = 0\n",
    "        for e in T1:\n",
    "            w1 += random_graph[e[0]][e[1]]['weight']\n",
    "        w2 = 0\n",
    "        mst = list(nx.minimum_spanning_edges(random_graph))\n",
    "        for e in mst:\n",
    "            w2 += random_graph[e[0]][e[1]]['weight']\n",
    "        assert w1 == w2, f\"kruskal returned a spanning tree of weight {w1} but the true MST as weight {w2}\"\n",
    "        "
   ]
  },
  {
   "cell_type": "code",
   "execution_count": null,
   "id": "1bafd1d5",
   "metadata": {},
   "outputs": [],
   "source": []
  },
  {
   "cell_type": "markdown",
   "id": "0804d68f",
   "metadata": {
    "deletable": false,
    "editable": false
   },
   "source": [
    "## Submission\n",
    "\n",
    "Make sure you have run all cells in your notebook in order before running the cell below, so that all images/graphs appear in the output. The cell below will generate a zip file for you to submit."
   ]
  },
  {
   "cell_type": "code",
   "execution_count": null,
   "id": "5e36f9a9",
   "metadata": {
    "deletable": false,
    "editable": false
   },
   "outputs": [],
   "source": [
    "grader.export(pdf=False, force_save=True, run_tests=True)"
   ]
  },
  {
   "cell_type": "markdown",
   "id": "f441c9a2",
   "metadata": {},
   "source": [
    " "
   ]
  }
 ],
 "metadata": {
  "kernelspec": {
   "display_name": "Python 3",
   "language": "python",
   "name": "python3"
  },
  "language_info": {
   "codemirror_mode": {
    "name": "ipython",
    "version": 3
   },
   "file_extension": ".py",
   "mimetype": "text/x-python",
   "name": "python",
   "nbconvert_exporter": "python",
   "pygments_lexer": "ipython3",
   "version": "3.10.6"
  },
  "otter": {
   "OK_FORMAT": false,
   "assignment_name": "Kruskals",
   "tests": {
    "q1": "from otter.test_files import test_case\n\nOK_FORMAT = False\n\nname = \"q1\"\npoints = 1.0\n\n@test_case(points=None, hidden=False)\ndef test_q1(nx, tqdm, np, kruskal,time):\n    #start = time.time()\n    for n in tqdm.tqdm(range(10,1000,15)):\n        random_graph = nx.gnp_random_graph(n,0.08)\n        edge_list = random_graph.edges\n        G = [[] for _ in range(n)]\n        for e in edge_list:\n            w = np.random.randint(-1000, 1000)\n\n            # create adjacency list\n            G[e[0]].append((e[1], w))\n            G[e[1]].append((e[0], w))\n\n            # add weights to networkx graph\n            random_graph[e[0]][e[1]]['weight'] = w\n            random_graph[e[1]][e[0]]['weight'] = w\n\n        # This block prevents students from using networkx's MST functions\n        # An exception is raised when students call these functions\n        mst = nx.minimum_spanning_tree\n        mse = nx.minimum_spanning_edges\n        max_st = nx.maximum_spanning_tree\n        max_se = nx.maximum_spanning_edges\n\n        def error(*args, **kwargs):        \n            nx.minimum_spanning_tree = mst\n            nx.minimum_spanning_edges = mse\n            nx.maximum_spanning_tree = max_st\n            nx.maximum_spanning_edges = max_se\n\n            raise Exception(\"You may not call built in libraries, modules, or functions.\")\n\n        nx.minimum_spanning_tree = error\n        nx.minimum_spanning_edges = error\n        nx.maximum_spanning_tree = error\n        nx.maximum_spanning_edges = error\n\n        # Runs the student's function and resets networkx before continuing \n        # or raising an exception. This step is necessary, otherwise students will need to restart \n        # the kernel every time their function raises and exception or they use the built in functions\n        T1 =[]\n        try:\n            T1 = kruskal(G)\n        except BaseException as error:\n            nx.minimum_spanning_tree = mst\n            nx.minimum_spanning_edges = mse\n            nx.maximum_spanning_tree = max_st\n            nx.maximum_spanning_edges = max_se\n            raise Exception(f\"kruskal raised an exception: {error}\")  \n        finally:\n            nx.minimum_spanning_tree = mst\n            nx.minimum_spanning_edges = mse\n            nx.maximum_spanning_tree = max_st\n            nx.maximum_spanning_edges = max_se\n\n        # check that the correct number of edges are returned\n        if not nx.is_connected(random_graph):\n            assert T1 is None, f\"kruskal did not return None for a unconnected graph!\"\n            continue\n        assert T1 is not None, f\"kruskal returned None for a connected graph!\"\n        assert len(T1) == n-1, f\"kruskal returned {len(T1)} edges rather than n-1 edges on a connected graph!\"\n        for e in T1:\n            assert random_graph.has_edge(e[0], e[1]), f\"kruskal returned an edge that's not in the graph!\"\n\n        # Check that the edge lists forms a tree. Since we already checked that it contains n-1 edges, \n        # this condition ensures that the tree is a spanning tree.\n        TG = nx.Graph()\n        TG.add_edges_from(T1)\n        nx.is_tree(TG)\n\n        # check that the weight of the spanning tree is correct\n        w1 = 0\n        for e in T1:\n            w1 += random_graph[e[0]][e[1]]['weight']\n        w2 = 0\n        mst = list(nx.minimum_spanning_edges(random_graph))\n        for e in mst:\n            w2 += random_graph[e[0]][e[1]]['weight']\n        assert w1 == w2, f\"kruskal returned a spanning tree of weight {w1} but the true MST as weight {w2}\"\n    #finish = time.time()\n    \n    #timeout after a minute\n    #if (finish-start) > 120:\n        #raise Exception(f\"Your solution is too slow!\")\n        \n"
   }
  },
  "vscode": {
   "interpreter": {
    "hash": "949777d72b0d2535278d3dc13498b2535136f6dfe0678499012e853ee9abcab1"
   }
  }
 },
 "nbformat": 4,
 "nbformat_minor": 5
}
