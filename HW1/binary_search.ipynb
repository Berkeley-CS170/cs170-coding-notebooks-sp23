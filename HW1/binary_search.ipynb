{
 "cells": [
  {
   "cell_type": "code",
   "execution_count": null,
   "id": "08751390",
   "metadata": {
    "deletable": false,
    "editable": false
   },
   "outputs": [],
   "source": [
    "# Initialize Otter\n",
    "import otter\n",
    "grader = otter.Notebook(\"binary_search.ipynb\")"
   ]
  },
  {
   "cell_type": "code",
   "execution_count": null,
   "id": "40ea7bca",
   "metadata": {},
   "outputs": [],
   "source": [
    "# version shenanigans\n",
    "!pip install otter-grader --upgrade --quiet\n",
    "import otter\n",
    "grader = otter.Notebook(\"binary_search.ipynb\")\n",
    "assert otter.__version__ >= \"4.2.0\", \"Please ask on Ed\""
   ]
  },
  {
   "cell_type": "code",
   "execution_count": null,
   "id": "8c541c8f",
   "metadata": {},
   "outputs": [],
   "source": [
    "import numpy as np\n",
    "from utils import fast_sorted_arr, test_speed, test_recursion"
   ]
  },
  {
   "cell_type": "markdown",
   "id": "1bf6de5d",
   "metadata": {},
   "source": [
    "## Binary Search Variations"
   ]
  },
  {
   "cell_type": "markdown",
   "id": "ca47a8b3",
   "metadata": {},
   "source": [
    "Binary search is a well-known idea in the field of computer science and has been introduced in CS10, CS61A and various other courses. Nevertheless as we re-introduce divide and conquer, it might be a good idea to revisit how to code them as well. "
   ]
  },
  {
   "cell_type": "markdown",
   "id": "c975d1e9",
   "metadata": {},
   "source": [
    "### Finding index of a number in distinct sorted array\n",
    "For the first question, we will implement binary search such that it returns the index of the element if it exists in the array or -1 otherwise. If an element occurs multiple times, return any one of its indicies.\n",
    "\n",
    "Steps: \n",
    "1. Find a pivot \n",
    "2. Check if the pivot element is what you want, if so return the pivot.\n",
    "3. Update the left and right indices based on the pivot."
   ]
  },
  {
   "cell_type": "markdown",
   "id": "dfa727b2",
   "metadata": {},
   "source": [
    "### Problem 1) Iterative Implementation\n",
    "First implement binary search iteratively. This is how it is typically performed."
   ]
  },
  {
   "cell_type": "code",
   "execution_count": null,
   "id": "f04e8f9f",
   "metadata": {
    "tags": []
   },
   "outputs": [],
   "source": [
    "def binary_search_it(lst, of):\n",
    "    '''\n",
    "    args:\n",
    "        lst:List[int] = sorted list of integers\n",
    "        of:int = element to search for\n",
    "    return:\n",
    "        an integer representing the index of 'of' in 'lst', returns -1 if 'of' is not in 'lst'\n",
    "    '''\n",
    "    ..."
   ]
  },
  {
   "cell_type": "code",
   "execution_count": null,
   "id": "8199cd4c",
   "metadata": {
    "deletable": false,
    "editable": false
   },
   "outputs": [],
   "source": [
    "grader.check(\"q1\")"
   ]
  },
  {
   "cell_type": "markdown",
   "id": "4cf4628a",
   "metadata": {},
   "source": [
    "### Common Mistakes\n",
    "\n",
    "Binary search is a notoriously buggy algorithm to implement due to the number of edge cases that are often unaccounted for https://stackoverflow.com/questions/504335/what-are-the-pitfalls-in-implementing-binary-search\n",
    "\n",
    "Here are a few which we will check for in your solution:\n",
    "\n",
    "1) It fails if the array is length 0. This is easy to fix with more careful indexing.\n",
    "\n",
    "2) The algorithm can fail to return the index of a key which exists in the array. This often happens due to indexing errors where the algorithm ends up on the element thats to the immediate left or right of the key. This can be fixed with careful indexing or an if statement after the main loop if you know the algorithm always round up or down one too many times.\n",
    "\n",
    "3) The algorithm fails if the key is greater than the largest element or smaller than the smallest element in the array. This can be fixed with careful indexing.\n",
    "\n",
    "### Debugging tricks\n",
    "On top of the above mentioned common mistakes, you may find some of the following debugging tricks helpful if you're failing some test cases.\n",
    "\n",
    "- Swap strict inequalities with non-strict inequalities and vice versa (ie replace `>` with `>=` and vice versa, or `<` with `<=` and vice versa).\n",
    "- Update the indices plus minus 1 (ie try `l = m + 1` instead of `l = m` or vice versa, same thing for `r`)."
   ]
  },
  {
   "cell_type": "markdown",
   "id": "7f40f62f",
   "metadata": {},
   "source": [
    "### Problem 2) Recursive Implementation\n",
    "\n",
    "Now implement binary search recursively. "
   ]
  },
  {
   "cell_type": "code",
   "execution_count": null,
   "id": "cbc870aa",
   "metadata": {
    "tags": []
   },
   "outputs": [],
   "source": [
    "def binary_search_recursive(lst, of):\n",
    "    '''\n",
    "    args:\n",
    "        lst:List[int] = sorted list of integers\n",
    "        of:int = element to search for\n",
    "    return:\n",
    "        an integer representing the index of 'of' in 'lst', returns -1 if 'of' is not in 'lst'\n",
    "    NOTE: This must be a recursive implementation\n",
    "    '''\n",
    "    ..."
   ]
  },
  {
   "cell_type": "markdown",
   "id": "63c007b7",
   "metadata": {},
   "source": [
    "Run the following cell to check your answer\n",
    "\n",
    "_Points:_ 1.5"
   ]
  },
  {
   "cell_type": "code",
   "execution_count": null,
   "id": "f058c1fd",
   "metadata": {
    "deletable": false,
    "editable": false
   },
   "outputs": [],
   "source": [
    "grader.check(\"q2\")"
   ]
  },
  {
   "cell_type": "markdown",
   "id": "4c05d11a",
   "metadata": {},
   "source": [
    "### Problem 3) Find the lowest index of an element\n",
    "Sometimes, not only do you want to find the index of an element, you want to find the lowest index of that element if there are ties. Modify your iterative binary serach so that it returns the index of the first occurance of an element if it doesn't do so already.\n",
    "\n",
    "To do so, rather than immediately returning the pivot if the pivot element is what you're searching for, search on the left half of the array to determine if there is a smaller index for that element. You may have to experiment with indices (ie setting the left or right to pivot, pivot + 1, or pivot -1). This part is prone to off by one errors.\n",
    "\n",
    "### Student solution\n",
    "\n",
    "_Points:_ 1.5"
   ]
  },
  {
   "cell_type": "code",
   "execution_count": null,
   "id": "42a7a75d",
   "metadata": {
    "tags": []
   },
   "outputs": [],
   "source": [
    "def lowest_indexOf(lst, of):\n",
    "    '''\n",
    "    args:\n",
    "        lst:List[int] = sorted list of integers\n",
    "        of:int = element to search for\n",
    "    return:\n",
    "        an integer representing the index of 'of' in 'lst', returns -1 if 'of' is not in 'lst'\n",
    "    NOTE: This must run in O(log(n)) time.\n",
    "    '''\n",
    "    ..."
   ]
  },
  {
   "cell_type": "code",
   "execution_count": null,
   "id": "792adcc9",
   "metadata": {
    "deletable": false,
    "editable": false
   },
   "outputs": [],
   "source": [
    "grader.check(\"q3\")"
   ]
  },
  {
   "cell_type": "markdown",
   "id": "9898a4a0",
   "metadata": {},
   "source": [
    "## Side Note if you are not using Python\n",
    "__There's no question here. This is just something to be aware of when implementing binary search in other languages__\n",
    "\n",
    "It typically does not matter if you are using Python, since Python's int doesn't have overflow issue and can be arbitrarily large. This might not be the case for some other programming languages such as C, Java, and even Rust (if you are in release mode and not using `checked_` functions).\n",
    "\n",
    "This can create integer overflow errors when binary searching large arrays in those languages. To see why, when evaluating the expression `(l+r)/2`, the term `(l+r)` will be evaluated first. If `l` and `r` are both large integers, it's possible for `(l+r)` to overflow; thus, causing you to calculate the wrong index. \n",
    "\n",
    "Python's `numpy` is written in C, and its primitive types suffer the same problem. We demonstrate the problem below. "
   ]
  },
  {
   "cell_type": "code",
   "execution_count": null,
   "id": "318fa348",
   "metadata": {},
   "outputs": [],
   "source": [
    "a: np.int8 = np.int8(116)\n",
    "b: np.int8 = np.int8(127)"
   ]
  },
  {
   "cell_type": "code",
   "execution_count": null,
   "id": "c6ff761c",
   "metadata": {},
   "outputs": [],
   "source": [
    "def return_pivot_incorrect(l: np.int8, r: np.int8) -> np.int8:\n",
    "    return (l + r) // 2\n",
    "return_pivot_incorrect(a, b)"
   ]
  },
  {
   "cell_type": "markdown",
   "id": "9d9946b2",
   "metadata": {},
   "source": [
    "In the above cell, `116+127` overflows `np.int8`; thus, returning the wrong index. To fix this issue, we can instead calculate the pivot using the formula `l + ((r - l) / 2)` (you can check that this is equivalent to `(l+r)/2`). Notice that in this formula, if both `l` and `r` are valid integers, none of the terms will overflow when evaluating the expression. We demonstrate the solution below."
   ]
  },
  {
   "cell_type": "code",
   "execution_count": null,
   "id": "3e009c0b",
   "metadata": {},
   "outputs": [],
   "source": [
    "def return_pivot(l: np.int8, r: np.int8) -> np.int8:\n",
    "    return l + ((r - l) // 2)\n",
    "\n",
    "return_pivot(a, b)"
   ]
  },
  {
   "cell_type": "code",
   "execution_count": null,
   "id": "2689476e",
   "metadata": {},
   "outputs": [],
   "source": []
  },
  {
   "cell_type": "markdown",
   "id": "0ef9da4b",
   "metadata": {
    "deletable": false,
    "editable": false
   },
   "source": [
    "## Submission\n",
    "\n",
    "Make sure you have run all cells in your notebook in order before running the cell below, so that all images/graphs appear in the output. The cell below will generate a zip file for you to submit."
   ]
  },
  {
   "cell_type": "code",
   "execution_count": null,
   "id": "63f114b6",
   "metadata": {
    "deletable": false,
    "editable": false
   },
   "outputs": [],
   "source": [
    "grader.export(pdf=False, force_save=True, run_tests=True)"
   ]
  },
  {
   "cell_type": "markdown",
   "id": "58f66993",
   "metadata": {},
   "source": [
    " "
   ]
  }
 ],
 "metadata": {
  "kernelspec": {
   "display_name": "Python 3 (ipykernel)",
   "language": "python",
   "name": "python3"
  },
  "language_info": {
   "codemirror_mode": {
    "name": "ipython",
    "version": 3
   },
   "file_extension": ".py",
   "mimetype": "text/x-python",
   "name": "python",
   "nbconvert_exporter": "python",
   "pygments_lexer": "ipython3",
   "version": "3.10.9"
  },
  "otter": {
   "OK_FORMAT": false,
   "assignment_name": "binary_search",
   "tests": {
    "q1": "from otter.test_files import test_case\n\nOK_FORMAT = False\n\nname = \"q1\"\npoints = 1.5\n\n@test_case(points=0.2, hidden=False, \n    success_message=\"Pass.\", \n    failure_message=\"Your iterative binary search fails when the array length is 0.\")\ndef test_q1_1(binary_search_it, test_speed):\n    assert binary_search_it([], 0) == -1, \"Fails on length 0 lists\"\n    assert test_speed(binary_search_it), \"Double check your implementation is O(log(n)), it is performing slower than a linear time search.\"\n\n@test_case(points=0.2, hidden=False, \n    success_message=\"Pass.\", \n    failure_message=\"Your iterative binary search returns the wrong index.\")\ndef test_q1_2(binary_search_it, test_speed, np):\n    arr_wrong_index = [np.random.randint(0,100) for i in range(0,100)] + [50 for i in range(10)]\n    arr_wrong_index = sorted(arr_wrong_index)\n    assert binary_search_it(arr_wrong_index, 50) != -1 and arr_wrong_index[binary_search_it(arr_wrong_index, 50)] == 50, \"Wrong index returned\"\n    assert test_speed(binary_search_it), \"Double check your implementation is O(log(n)), it is performing slower than a linear time search.\"\n@test_case(points=0.2, hidden=False, \n    success_message=\"Pass.\", \n    failure_message=\"Your iterative binary search fails when the element is greater than the largest element or smaller than the smallest element in the array.\")\ndef test_q1_3(binary_search_it, test_speed, np):\n    arr_out_of_bounds = [np.random.randint(0,100) for i in range(0,100)]\n    arr_out_of_bounds = sorted(arr_out_of_bounds)\n    assert binary_search_it(arr_out_of_bounds, -1) == -1, \"Index returned, even though element is not in the array\"\n    assert binary_search_it(arr_out_of_bounds, 101) == -1, \"Index returned, even though element is not in the array\"\n    assert test_speed(binary_search_it), \"Double check your implementation is O(log(n)), it is performing slower than a linear time search.\"\n\n@test_case(points=0.9, hidden=False, \n    success_message=\"Pass.\", \n    failure_message=\"Your iterative binary search fails on random arrays.\")\ndef test_q1_4(binary_search_it, test_speed, fast_sorted_arr, np):\n    for i in range(100):\n        arr = fast_sorted_arr(10000)\n        key = np.random.randint(-10,10010)\n        index_it = binary_search_it(arr, key)\n        if key in arr:\n            assert index_it != -1 and arr[index_it] == key, f\"The index returned does not correspond to the element searched for, element = {key} array[index] = {arr[index_it]}\"\n        else:\n            assert index_it == -1, \"Index returned, even though element is not in the array\"\n    assert test_speed(binary_search_it), \"Double check your implementation is O(log(n)), it is performing slower than a linear time search.\"\n\n",
    "q2": "from otter.test_files import test_case\n\nOK_FORMAT = False\n\nname = \"q2\"\npoints = 1.5\n\n@test_case(points=0.2, hidden=False, \n    success_message=\"Pass.\", \n    failure_message=\"Your recursive binary search fails when the array length is 0.\")\ndef test_q2_1(binary_search_recursive, test_speed, test_recursion, fast_sorted_arr, np):\n    assert binary_search_recursive([], 0) == -1, \"Fails on length 0 lists\"\n    arr = fast_sorted_arr(1000)\n    assert test_recursion(binary_search_recursive, arr, arr[np.random.randint(1000)]), \"Make sure the function is recursive\"\n    assert test_speed(binary_search_recursive), \"Double check your implementation is O(log(n)), it is performing slower than a linear time search.\"\n\n@test_case(points=0.2, hidden=False, \n    success_message=\"Pass.\", \n    failure_message=\"Your recursive binary search returns the wrong index.\")\ndef test_q2_2(binary_search_recursive, test_speed, test_recursion, fast_sorted_arr, np):\n    arr_wrong_index = [np.random.randint(0,100) for i in range(0,100)] + [50 for i in range(10)]\n    arr_wrong_index = sorted(arr_wrong_index)\n    assert binary_search_recursive(arr_wrong_index, 50) != -1 and arr_wrong_index[binary_search_recursive(arr_wrong_index, 50)] == 50, \"Wrong index returned\"\n    arr = fast_sorted_arr(1000)\n    assert test_recursion(binary_search_recursive, arr, arr[np.random.randint(1000)]), \"Make sure the function is recursive\"\n    assert test_speed(binary_search_recursive), \"Double check your implementation is O(log(n)), it is performing slower than a linear time search.\"\n\n@test_case(points=0.2, hidden=False, \n    success_message=\"Pass.\", \n    failure_message=\"Your recursive binary search fails when the element is greater than the largest element or smaller than the smallest element in the array.\")\ndef test_q2_3(binary_search_recursive, test_speed, test_recursion, fast_sorted_arr, np):\n    arr_out_of_bounds = [np.random.randint(0,100) for i in range(0,100)]\n    arr_out_of_bounds = sorted(arr_out_of_bounds)\n    assert binary_search_recursive(arr_out_of_bounds, -1) == -1, \"Index returned, even though element is not in the array\"\n    assert binary_search_recursive(arr_out_of_bounds, 101) == -1, \"Index returned, even though element is not in the array\"\n    arr = fast_sorted_arr(1000)\n    assert test_recursion(binary_search_recursive, arr, arr[np.random.randint(1000)]), \"Make sure the function is recursive\"\n    assert test_speed(binary_search_recursive), \"Double check your implementation is O(log(n)), it is performing slower than a linear time search.\"\n\n@test_case(points=0.9, hidden=False, \n    success_message=\"Pass.\", \n    failure_message=\"One or both of your binary searches returned the wrong index.\")\ndef test_q2_4(binary_search_recursive, test_speed, test_recursion, fast_sorted_arr, np):\n    for i in range(100):\n        arr = fast_sorted_arr(10000)\n        key = np.random.randint(-10,10010)\n        index_rec = binary_search_recursive(arr, key)\n        if key in arr:\n            assert index_rec != -1 and arr[index_rec] == key, f\"The index returned does not correspond to the element searched for, element = {key} array[index] = {arr[index_rec]}\"\n        else:\n            assert index_rec == -1, \"Index returned, even though element is not in the array\"\n    assert test_speed(binary_search_recursive), \"Double check your implementation is O(log(n)), it is performing slower than a linear time search.\"\n    arr = fast_sorted_arr(1000)\n    assert test_recursion(binary_search_recursive, arr, arr[np.random.randint(1000)]), \"Make sure the function is recursive\"\n\n",
    "q3": "from otter.test_files import test_case\n\nOK_FORMAT = False\n\nname = \"q3\"\npoints = 1.5\n\n@test_case(points=0.2, hidden=False, \n    success_message=\"Pass.\", \n    failure_message=\"Your binary search fails when the array length is 0.\")\ndef test_q3_1(lowest_indexOf, test_speed, np):\n    assert lowest_indexOf([], 0) == -1, \"Fails on length 0 lists\"\n    assert test_speed(lowest_indexOf), \"Double check your implementation is O(log(n)), it is performing slower than a linear time search.\"\n\n@test_case(points=0.2, hidden=False, \n    success_message=\"Pass.\", \n    failure_message=\"Your binary search returns the wrong index.\")\ndef test_q3_2(lowest_indexOf, test_speed, np):\n    arr_wrong_index = [np.random.randint(0,100) for i in range(0,100)] + [50 for i in range(10)]\n    arr_wrong_index = sorted(arr_wrong_index)\n    assert lowest_indexOf(arr_wrong_index, 50) != -1 and arr_wrong_index[lowest_indexOf(arr_wrong_index, 50)] == 50, \"Wrong index returned\"\n    assert test_speed(lowest_indexOf), \"Double check your implementation is O(log(n)), it is performing slower than a linear time search.\"\n\n@test_case(points=0.2, hidden=False, \n    success_message=\"Pass.\", \n    failure_message=\"Your binary search fails when the element is greater than the largest element or smaller than the smallest element in the array.\")\ndef test_q3_3(lowest_indexOf, test_speed, np):\n    arr_out_of_bounds = [np.random.randint(0,100) for i in range(0,100)]\n    arr_out_of_bounds = sorted(arr_out_of_bounds)\n    assert lowest_indexOf(arr_out_of_bounds, -1) == -1, \"Index returned, even though element is not in the array\"\n    assert lowest_indexOf(arr_out_of_bounds, 101) == -1, \"Index returned, even though element is not in the array\"\n    assert test_speed(lowest_indexOf), \"Double check your implementation is O(log(n)), it is performing slower than a linear time search.\"\n\n@test_case(points=0.9, hidden=False, \n    success_message=\"Pass.\", \n    failure_message=\"You're not returning the correct index.\")\ndef test_q3_4(lowest_indexOf,test_speed,np,fast_sorted_arr):\n    for i in range(100):\n        arr = fast_sorted_arr(10000)\n        key = np.random.randint(0,10000)\n        index = lowest_indexOf(arr, key)\n        if key in arr:\n            assert arr[index] == key, f\"The index returned does not correspond to the element searched for, element = {key} array[index] = {arr[index]}\"\n            assert index == arr.index(key), f\"The index returned is not the lowest possible index.\"\n        else:\n            assert index == -1, \"Index returned, even though element is not in the array\"\n    assert test_speed(lowest_indexOf), \"Double check your implementation is O(log(n)), it is performing slower than a linear time search.\"\n"
   }
  },
  "vscode": {
   "interpreter": {
    "hash": "31f2aee4e71d21fbe5cf8b01ff0e069b9275f58929596ceb00d14d90e3e16cd6"
   }
  }
 },
 "nbformat": 4,
 "nbformat_minor": 5
}
