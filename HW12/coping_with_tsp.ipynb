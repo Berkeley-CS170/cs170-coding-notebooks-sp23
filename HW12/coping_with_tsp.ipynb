{
 "cells": [
  {
   "cell_type": "code",
   "execution_count": null,
   "id": "6d5f2c13",
   "metadata": {
    "deletable": false,
    "editable": false
   },
   "outputs": [],
   "source": [
    "# Initialize Otter\n",
    "import otter\n",
    "grader = otter.Notebook(\"coping_with_tsp.ipynb\")"
   ]
  },
  {
   "cell_type": "code",
   "execution_count": null,
   "id": "dc39c738",
   "metadata": {},
   "outputs": [],
   "source": [
    "# version shenanigans\n",
    "!pip install -r requirements.txt --quiet\n",
    "import otter\n",
    "grader = otter.Notebook(\"coping_with_tsp.ipynb\")\n",
    "assert otter.__version__ >= \"4.2.0\", \"Please restart your kernel.\""
   ]
  },
  {
   "cell_type": "code",
   "execution_count": null,
   "id": "ea77328b",
   "metadata": {},
   "outputs": [],
   "source": [
    "import pickle as pkl"
   ]
  },
  {
   "cell_type": "markdown",
   "id": "17cb7085",
   "metadata": {},
   "source": [
    "# The Traveling Salesman Problem\n",
    "\n",
    "In this notebook, we will take a crack at the Traveling Salesman Problem, which asks the following question: _Given a list of cities and the distances between each pair of cities, what is the shortest possible route that visits each city exactly once and returns to the origin city?_\n",
    "\n",
    "The problem can be formally defined as follows:\n",
    "\n",
    "```\n",
    "Input: An n x n matrix of distances, where M[i, j] corresponds to the distance from city i to city j.\n",
    "Output: An ordered list of cities [c1, c2, ... cn] that defines the shortest tour which passes through all the cities, \n",
    "starting and ending at the same city.\n",
    "```\n",
    "\n",
    "Though the question is conceptually simple, it is one of the **hardest problems in computer science!** In fact, it is an NP-hard problem. As such, we will not ask you to solve the traveling salesman problem in polynomial time. (If you do this, you have proven that P=NP!) Instead, we will develop efficient methods of approximating a solution, which is a common approach to tackling difficult problems.\n",
    "\n",
    "We have provided a convenience function that, given an input matrix and a list of cities, evaluates the length of the path that passes through all of the cities in the list in order."
   ]
  },
  {
   "cell_type": "code",
   "execution_count": null,
   "id": "36be0ee7",
   "metadata": {},
   "outputs": [],
   "source": [
    "def evaluate_path_length(matrix, path):\n",
    "    \"\"\"\n",
    "    Evaluates the distance of the path using the weight matrix.\n",
    "    \n",
    "    Args:\n",
    "        matrix: List[List[float]]\n",
    "            An n x n matrix of distances, where M[i, j] corresponds to the distance from city i to city j.\n",
    "        path: List[int] \n",
    "            A list corresponding to the order in which to visit cities, starting from path[0] and ending at path[-1] before \n",
    "            returning to path[0].\n",
    "    \n",
    "    Returns:\n",
    "        path_length: int\n",
    "            The length of the path.\n",
    "    \"\"\"\n",
    "    \n",
    "    path_length = 0\n",
    "    for i in range(len(path)):\n",
    "        path_length += matrix[path[i]][path[(i+1) % len(path)]]\n",
    "    return path_length"
   ]
  },
  {
   "cell_type": "markdown",
   "id": "e0401cc7",
   "metadata": {},
   "source": [
    "### Q1a) Greedy Solution from Designated Home\n",
    "Implement a greedy solution, which starts at city `home` and greedily chooses the closest city that has not been visited yet, until all cities have been visited. Return the path as a list of cities on that path, starting and ending at `path[0]`. For example, to represent the cycle `0 -> 1 -> 2 -> 3 -> 0`, return the list `[0, 1, 2, 3]`.  You may break ties arbitrarily."
   ]
  },
  {
   "cell_type": "code",
   "execution_count": null,
   "id": "32994944",
   "metadata": {
    "tags": []
   },
   "outputs": [],
   "source": [
    "def tsp_greedy(matrix, home):\n",
    "    \"\"\"\n",
    "    A greedy implementation of TSP, starting and ending at home.\n",
    "    \n",
    "    Args:\n",
    "        matrix: List[List[float]]\n",
    "            An n x n matrix of distances, where M[i, j] corresponds to the distance from city i to city j.\n",
    "        home: int\n",
    "            The index of the city to start and end at.\n",
    "    \n",
    "    Returns:\n",
    "        path: List[int] \n",
    "            A list corresponding to the order in which to visit cities, starting from path[0] and ending at path[-1] before \n",
    "            returning to path[0]. path[0] should be home.    \n",
    "    \"\"\"\n",
    "    ..."
   ]
  },
  {
   "cell_type": "code",
   "execution_count": null,
   "id": "bad3770c",
   "metadata": {
    "deletable": false,
    "editable": false
   },
   "outputs": [],
   "source": [
    "grader.check(\"q1a\")"
   ]
  },
  {
   "cell_type": "markdown",
   "id": "838ee38e",
   "metadata": {},
   "source": [
    "### Q1b) Greedy Solution \n",
    "An easy way to improve over the original greedy solution is to try your greedy solution on all of the possible starting locations and choose the best one. Implement a general greedy solution, which runs the greedy implementation on all possible home locations, and returns the best overall path.\n",
    "\n",
    "_Your solution should take around 8 lines of code. If you need an arbitrarily large value, you can use `1e9`_."
   ]
  },
  {
   "cell_type": "code",
   "execution_count": null,
   "id": "55c5c814",
   "metadata": {
    "tags": []
   },
   "outputs": [],
   "source": [
    "def tsp_greedy_general(matrix):\n",
    "    \"\"\"\n",
    "    A generalized greedy implementation of TSP.\n",
    "    \n",
    "    Args:\n",
    "        matrix: List[List[float]]\n",
    "            An n x n matrix of distances, where M[i, j] corresponds to the distance from city i to city j.\n",
    "    \n",
    "    Returns:\n",
    "        path: List[int] \n",
    "            A list corresponding to the order in which to visit cities, starting from path[0] and ending at path[-1] before \n",
    "            returning to path[0].  \n",
    "    \"\"\"\n",
    "    ..."
   ]
  },
  {
   "cell_type": "code",
   "execution_count": null,
   "id": "5f210586",
   "metadata": {
    "deletable": false,
    "editable": false
   },
   "outputs": [],
   "source": [
    "grader.check(\"q1b\")"
   ]
  },
  {
   "cell_type": "markdown",
   "id": "0d1ed52c",
   "metadata": {},
   "source": [
    "### Q2) Approximation Algorithm for Metric TSP\n",
    "\n",
    "When difficult problems are given specific constraints, they are sometimes easier to approximate. For this question, we will focus on a special variant of TSP called the **metric TSP**, which satisfies the following inequality:\n",
    "\n",
    "$$ \\forall i, j, k \\in V,\\; d(i, k) \\leq d(i, j) + d(j, k)$$\n",
    "\n",
    "_(This is called the triangle inequality, and all mathematical distance metrics obey it, which is why this is called the metric TSP!)_\n",
    "\n",
    "In other words, the shortest path from one city to another city is always the direct path.\n",
    "\n",
    "The Metric TSP problem is still NP-hard, but the following approximation returns a path that is guaranteed to be **at most twice the length of the optimal path**:\n",
    "\n",
    "* Generate a minimum spanning tree of the graph.\n",
    "* Run depth-first search on the minimum spanning tree.\n",
    "* Return the nodes in the order that you found them with depth first search (i.e. by preorder number).\n",
    "\n",
    "We have provided an implementation of Kruskal's algorithm and other utilities you may find useful."
   ]
  },
  {
   "cell_type": "code",
   "execution_count": null,
   "id": "22e6ac66",
   "metadata": {},
   "outputs": [],
   "source": [
    "class UnionFind:\n",
    "    \"\"\"Implements the UnionFind data structure with n nodes. Useful for running Kruskal's algorithm.\"\"\"\n",
    "    def __init__(self, n):\n",
    "        self.n = n\n",
    "        self.parents = [i for i in range(n)]\n",
    "        self.rank = [1]*n\n",
    "\n",
    "    def find(self, i):\n",
    "        \"\"\"Returns the root ancestor of node i.\"\"\"\n",
    "        assert i >= 0 and i <= self.n-1, f\"Node {i} is not in the data structure. Only nodes {0} through {self.n-1} exist.\"\n",
    "        if i != self.parents[i]:\n",
    "            self.parents[i] = self.find(self.parents[i])\n",
    "        return self.parents[i]\n",
    "\n",
    "    def union(self, i, j):\n",
    "        \"\"\"Merges the trees containing nodes i and j.\"\"\"\n",
    "        assert i >= 0 and i <= self.n-1, f\"Node {i} is not in the data structure. Only nodes {0} through {self.n-1} exist.\"\n",
    "        assert j >= 0 and j <= self.n-1, f\"Node {j} is not in the data structure. Only nodes {0} through {self.n-1} exist.\"\n",
    "        pi, pj = self.find(i), self.find(j)\n",
    "        if pi != pj:\n",
    "            if self.rank[pi] < self.rank[pj]:\n",
    "                self.parents[pi] = pj\n",
    "            elif self.rank[pi] > self.rank[pj]:\n",
    "                self.parents[pi] = pi\n",
    "            else:\n",
    "                self.parents[pi] = pj\n",
    "                self.rank[pi] += 1\n",
    "\n",
    "def kruskal(matrix):\n",
    "    \"\"\"\n",
    "    Runs Kruskal's MST-finding algorithm on an adjacency-matrix representation of a graph.\n",
    "    Args:\n",
    "        matrix: List[List[int]]\n",
    "            An adjacency matrix representation of a weighted graph, where matrix[i][j] corresponds to the weight of edge (i, j).\n",
    "    Returns:\n",
    "        T: List[Tuple[int]]\n",
    "            An edge list representation of the resulting MST, in which each element is a pair of nodes connected by an edge.\n",
    "    \"\"\"\n",
    "    T = []\n",
    "    edges = []\n",
    "    for u in range(len(matrix)):\n",
    "        for v, w in enumerate(matrix[u]):\n",
    "            edges.append((w, u, v))\n",
    "    edges.sort()\n",
    "    UF = UnionFind(len(matrix))\n",
    "    for e in edges:\n",
    "        u, v = e[1], e[2]\n",
    "        if UF.find(u) != UF.find(v):\n",
    "            UF.union(u, v)\n",
    "            T.append((u, v))\n",
    "    if len(T) != len(matrix) - 1:\n",
    "        return None\n",
    "    return T\n",
    "\n",
    "def make_adj_list(n, edge_list):\n",
    "    \"\"\"\n",
    "    Converts an edge list into an adjacency list.\n",
    "    Args:\n",
    "        n: int\n",
    "            The number of nodes in the graph.\n",
    "        edge_list: List[List[int]]\n",
    "            An edge list representation of a graph, where each element is a pair of nodes connected by an edge. \n",
    "            For instance, (2)--(0)--(1) would be represented as [[0, 1], [0, 2]].\n",
    "    Returns:\n",
    "        adj_list: List[List[int]]\n",
    "            An adjacency list representation of a graph, where adj_list[i] lists all of the nodes with an edge to node i. \n",
    "            For instance, (2)--(0)--(1) would be represented as [[1, 2], [0], [0]].\n",
    "    \"\"\"\n",
    "    adj_list = [[] for i in range(0,n)] \n",
    "    for edge in edge_list:\n",
    "        adj_list[edge[0]].append(edge[1]) # need to include both directions for the edge\n",
    "        adj_list[edge[1]].append(edge[0])\n",
    "    return adj_list"
   ]
  },
  {
   "cell_type": "markdown",
   "id": "edb9af46",
   "metadata": {},
   "source": [
    "First, implement depth-first-search. You may assume that the input graph is connected."
   ]
  },
  {
   "cell_type": "code",
   "execution_count": null,
   "id": "ec6d3fb7",
   "metadata": {
    "tags": []
   },
   "outputs": [],
   "source": [
    "def preorder(adj_list, s):\n",
    "    \"\"\"\n",
    "    Runs depth-first-search on the graph, and returns the list of nodes sorted by preorder.\n",
    "    \n",
    "    Args:\n",
    "        adj_list: List[List[int]]\n",
    "            An adjacency list representation of a graph, where adj_list[i] lists all of the nodes with an edge to node i. \n",
    "            For instance, (2)--(0)--(1) would be represented as [[1, 2], [0], [0]].\n",
    "        s: int\n",
    "            The node from which to start DFS.\n",
    "    \n",
    "    Returns:\n",
    "        preorder: List[int]\n",
    "            The list of nodes sorted by preorder.\n",
    "            \n",
    "    \"\"\"\n",
    "    ..."
   ]
  },
  {
   "cell_type": "code",
   "execution_count": null,
   "id": "60347d77",
   "metadata": {
    "deletable": false,
    "editable": false
   },
   "outputs": [],
   "source": [
    "grader.check(\"q2a\")"
   ]
  },
  {
   "cell_type": "markdown",
   "id": "0bda038f",
   "metadata": {},
   "source": [
    "Now, implement the metric TSP approximation algorithm. **Run DFS starting at node 0 to ensure compatibility with the autograder.**"
   ]
  },
  {
   "cell_type": "code",
   "execution_count": null,
   "id": "311e7951",
   "metadata": {
    "tags": []
   },
   "outputs": [],
   "source": [
    "def metric_tsp_approximation(matrix):\n",
    "    \"\"\"\n",
    "    An algorithm for solving the Metric TSP using minimum spanning trees and depth first search.\n",
    "    \n",
    "    Args:\n",
    "        matrix: List[List[float]]\n",
    "            An n x n matrix of distances, where M[i, j] corresponds to the distance from city i to city j.\n",
    "    \n",
    "    Returns:\n",
    "        path: List[int] \n",
    "            A list corresponding to the order in which to visit cities, starting from path[0] and ending at path[-1] before \n",
    "            returning to path[0].  \n",
    "    \"\"\"\n",
    "    ..."
   ]
  },
  {
   "cell_type": "markdown",
   "id": "fda0d91c",
   "metadata": {},
   "source": [
    "To help you debug, we have provided some sample test cases and answers. *Passing all these tests does not ensure the infallibility of your solution.*"
   ]
  },
  {
   "cell_type": "code",
   "execution_count": null,
   "id": "150d40c7",
   "metadata": {},
   "outputs": [],
   "source": [
    "with open('tests_1.pkl', 'rb') as f:\n",
    "    cases = pkl.load(f)\n",
    "\n",
    "def standardize_path(path):\n",
    "    idx = path.index(0)\n",
    "    return path[idx:] + path[:idx]\n",
    "\n",
    "def matrix_to_string(matrix):\n",
    "    return \"\".join([f\"{row}\\n\" for row in matrix])\n",
    "                   \n",
    "def verify_basic(matrix, path):\n",
    "    \"\"\"Verify that the proposed solution is valid.\"\"\"\n",
    "    assert len(path) == len(matrix), f\"There are {len(matrix)} cities but your path only has {len(path)} cities!\"\n",
    "    assert sorted(path) == list(range(len(path))), f\"Your path is not a permutation of cities (ints from 0 to {len(path)})\"\n",
    "\n",
    "for problem, solution in cases:\n",
    "    your_solution = metric_tsp_approximation(m)\n",
    "    verify_basic(problem, your_solution)\n",
    "    assert standardize_path(your_solution) == standardize_path(solution), (\n",
    "        f\"Your solution returned the incorrect path!\"\n",
    "\n",
    "        f\"The matrix: \\n{matrix_to_string(m)}\\n\"\n",
    "        f\"The path you returned: \\n{student_sol}\"\n",
    "        f\"The correct path: \\n{s}\")\n",
    "print(\"All test cases passed!\")"
   ]
  },
  {
   "cell_type": "code",
   "execution_count": null,
   "id": "8bca3c81",
   "metadata": {
    "deletable": false,
    "editable": false
   },
   "outputs": [],
   "source": [
    "grader.check(\"q2b\")"
   ]
  },
  {
   "cell_type": "markdown",
   "id": "bd8b9b76",
   "metadata": {
    "deletable": false,
    "editable": false
   },
   "source": [
    "## Submission\n",
    "\n",
    "Make sure you have run all cells in your notebook in order before running the cell below, so that all images/graphs appear in the output. The cell below will generate a zip file for you to submit."
   ]
  },
  {
   "cell_type": "code",
   "execution_count": null,
   "id": "02c76a0e",
   "metadata": {
    "deletable": false,
    "editable": false
   },
   "outputs": [],
   "source": [
    "grader.export(pdf=False, force_save=True, run_tests=True)"
   ]
  },
  {
   "cell_type": "markdown",
   "id": "a8c9742d",
   "metadata": {},
   "source": [
    " "
   ]
  }
 ],
 "metadata": {
  "kernelspec": {
   "display_name": "Python 3 (ipykernel)",
   "language": "python",
   "name": "python3"
  },
  "language_info": {
   "codemirror_mode": {
    "name": "ipython",
    "version": 3
   },
   "file_extension": ".py",
   "mimetype": "text/x-python",
   "name": "python",
   "nbconvert_exporter": "python",
   "pygments_lexer": "ipython3",
   "version": "3.8.16"
  },
  "otter": {
   "OK_FORMAT": false,
   "assignment_name": "coping_with_tsp",
   "tests": {
    "q1a": "from otter.test_files import test_case\n\nOK_FORMAT = False\n\nname = \"q1a\"\npoints = 2.0\n\n@test_case(points=None, hidden=False)\ndef test_q1a(tsp_greedy):\n    import random\n    \n    def matrix_to_string(matrix):\n        return \"\".join([f\"{row}\\n\" for row in matrix])\n                   \n    def verify_basic(matrix, path):\n        \"\"\"Verify that the proposed solution is valid.\"\"\"\n        assert len(path) == len(matrix), f\"There are {len(matrix)} cities but your path only has {len(path)} cities!\"\n        assert sorted(path) == list(range(len(path))), f\"Your path is not a permutation of cities (ints from 0 to {len(path)})\"\n\n    def verify_greedy(matrix, path):\n        \"\"\"Verify that the proposed solution is a valid greedy solution at each step (except the last one).\"\"\"\n        weights = [matrix[path[i]][path[i+1]] for i in range(len(path) - 1)]\n        for i in range(len(weights)):\n            available_options = [matrix[path[i]][path[j]] for j in range(i+1, (len(path)))]\n            assert weights[i] == min(available_options), (\n                f\"At time {i}, you could've chosen an edge of weight {min(available_options)}, \"\n                f\"but instead you chose an edge of weight {weights[i]}!\\n\\n\"\n\n                f\"The matrix: \\n{matrix_to_string(matrix)}\\n\"\n                f\"The path you returned: \\n{path}\")\n    \n    matrix_sizes = [5, 10, 20, 40]\n    for size in matrix_sizes:\n        print(f\"Testing on {size} cities...\")\n        for it in range(20):\n            matrix = [[random.randint(0, size * 2) for _ in range(size)] for _ in range(size)]\n            home = random.randint(0, size-1)\n            path = tsp_greedy(matrix, home)\n            assert path[0] == home, f\"Your path should start at {home} but it starts at {path[0]}\"\n            verify_basic(matrix, path)\n            verify_greedy(matrix, path)\n    print(f\"All test cases passed!\")\n\n",
    "q1b": "from otter.test_files import test_case\n\nOK_FORMAT = False\n\nname = \"q1b\"\npoints = 1.0\n\n@test_case(points=None, hidden=False)\ndef test_q1b(tsp_greedy_general, tsp_greedy, evaluate_path_length):\n    import random\n    \n    def matrix_to_string(matrix):\n        return \"\".join([f\"{row}\\n\" for row in matrix])\n                   \n    def verify_basic(matrix, path):\n        \"\"\"Verify that the proposed solution is valid.\"\"\"\n        assert len(path) == len(matrix), f\"There are {len(matrix)} cities but your path only has {len(path)} cities!\"\n        assert sorted(path) == list(range(len(path))), f\"Your path is not a permutation of cities (ints from 0 to {len(path)})\"\n\n    def verify_greedy(matrix, path):\n        \"\"\"Verify that the proposed solution is a valid greedy solution at each step (except the last one).\"\"\"\n        weights = [matrix[path[i]][path[i+1]] for i in range(len(path) - 1)]\n        for i in range(len(weights)):\n            available_options = [matrix[path[i]][path[j]] for j in range(i+1, (len(path)))]\n            assert weights[i] == min(available_options), (\n                f\"At time {i}, you could've chosen an edge of weight {min(available_options)}, \"\n                f\"but instead you chose an edge of weight {weights[i]}!\\n\\n\"\n\n                f\"The matrix: \\n{matrix_to_string(matrix)}\\n\"\n                f\"The path you returned: \\n{path}\")\n    \n    matrix_sizes = [5, 10, 20, 40]\n    for size in matrix_sizes:\n        print(f\"Testing on {size} cities...\")\n        for it in range(20):\n            matrix = [[random.randint(0, size * 2) for _ in range(size)] for _ in range(size)]\n            home = random.randint(0, size-1)\n            path = tsp_greedy_general(matrix)\n            verify_basic(matrix, path)\n            verify_greedy(matrix, path)\n            \n            path_length = evaluate_path_length(matrix, path)\n            for home in range(size):\n                assert path_length <= evaluate_path_length(matrix, tsp_greedy(matrix, home))\n    print(f\"All test cases passed!\")\n\n",
    "q2a": "from otter.test_files import test_case\n\nOK_FORMAT = False\n\nname = \"q2a\"\npoints = 1.0\n\n@test_case(points=None, hidden=False)\ndef test_q2a(preorder, pkl):\n    with open('tests_dfs.pkl', 'rb') as f:\n        tests = pkl.load(f)\n    \n    for l, s in tests:\n        student_sol = preorder(l, 0)\n        assert student_sol == s, (\n            \"Incorrect preorder returned!\"\n            \n            f\"Input adjacency list: {l}\"\n            f\"Your solution: {student_sol}\"\n            f\"Correct solution: {s}\"\n        )\n\n",
    "q2b": "from otter.test_files import test_case\n\nOK_FORMAT = False\n\nname = \"q2b\"\npoints = 4.0\n\n@test_case(points=1.0, hidden=False)\n\ndef test_q2b(metric_tsp_approximation, preorder, make_adj_list, kruskal, UnionFind):\n    import pickle as pkl\n    \n    def standardize_path(path):\n        idx = path.index(0)\n        return path[idx:] + path[:idx]\n    \n    def matrix_to_string(matrix):\n        return \"\".join([f\"{row}\\n\" for row in matrix])\n                   \n    def verify_basic(matrix, path):\n        \"\"\"Verify that the proposed solution is valid.\"\"\"\n        assert len(path) == len(matrix), f\"There are {len(matrix)} cities but your path only has {len(path)} cities!\"\n        assert sorted(path) == list(range(len(path))), f\"Your path is not a permutation of cities (ints from 0 to {len(path)})\"\n    \n    with open('tests_1.pkl', 'rb') as f:\n        cases = pkl.load(f)\n    \n    for m, s in cases:\n        student_sol = metric_tsp_approximation(m)\n        verify_basic(m, student_sol)\n        \n        mst = kruskal(m)\n        assert standardize_path(student_sol) == standardize_path(s), (\n            f\"Your solution returned the incorrect path!\"\n            \n            f\"The matrix: \\n{matrix_to_string(m)}\\n\"\n            f\"The path you returned: \\n{student_sol}\"\n            f\"The correct path: \\n{s}\")\n    print(\"All test cases passed!\")\n\n"
   }
  }
 },
 "nbformat": 4,
 "nbformat_minor": 5
}
