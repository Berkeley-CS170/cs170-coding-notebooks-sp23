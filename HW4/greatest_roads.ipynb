{
 "cells": [
  {
   "cell_type": "code",
   "execution_count": null,
   "id": "60704781",
   "metadata": {
    "deletable": false,
    "editable": false
   },
   "outputs": [],
   "source": [
    "# Initialize Otter\n",
    "import otter\n",
    "grader = otter.Notebook(\"greatest_roads.ipynb\")"
   ]
  },
  {
   "cell_type": "markdown",
   "id": "200d26f1",
   "metadata": {},
   "source": [
    "### Please restart the kernel after running next cell"
   ]
  },
  {
   "cell_type": "code",
   "execution_count": null,
   "id": "d5d7b0a3",
   "metadata": {},
   "outputs": [],
   "source": [
    "# version shenanigans\n",
    "!pip install -r requirements.txt --quiet\n",
    "import otter\n",
    "grader = otter.Notebook(\"greatest_roads.ipynb\")\n",
    "assert otter.__version__ >= \"4.2.0\", \"Please restart your kernel.\""
   ]
  },
  {
   "cell_type": "code",
   "execution_count": null,
   "id": "1af0140b",
   "metadata": {},
   "outputs": [],
   "source": [
    "import networkx as nx\n",
    "import tqdm\n",
    "from heapq import heappush, heappop\n",
    "import numpy as np\n",
    "from utils import k_all,n_all,a_all,non_great_roads_all, greatest_roads_all, path_all\n",
    "import time"
   ]
  },
  {
   "cell_type": "markdown",
   "id": "a5ff93e2",
   "metadata": {
    "id": "K9wMzf7eZkBL"
   },
   "source": [
    "# Greatest Roads (Extra Credit)\n",
    "Here we will implement an algorithm to solve the greatest roads question from this week's problem set. __Note that no debugging help will be given until you have correctly and fully solved the written problem first.__\n",
    "\n",
    "The following is the prompt from that question \n",
    "\n",
    "> Arguably, one of the best things to do in America is to take a great\n",
    "American road trip. And in America there are some amazing roads to\n",
    "drive on (think Pacific Coast Highway, Route 66 etc). An intrepid\n",
    "traveler has chosen to set course across America in search of some\n",
    "amazing driving. What is the length of the shortest path that hits at\n",
    "least $k$ of these amazing roads? \n",
    "\n",
    "> Assume that the roads in America can be expressed as a directed\n",
    "weighted graph $G = (V,E,w)$, and that our traveler wishes to drive\n",
    "across at least $k$ roads from the subset $R \\subseteq E$ of ``amazing''\n",
    "roads. Furthermore, assume that the traveler starts and ends at her\n",
    "home $a \\in V$. You may also assume that the traveler is fine with\n",
    "repeating roads from $R$, i.e. the $k$ roads chosen from $R$ need not\n",
    "be unique. \n",
    "\n",
    "> Design an algorithm that solves this problem in $O(k(|E|+|V|) \\log (k|V|))$ time. \n",
    "Provide a 3-part solution. \n",
    "\n",
    "Here, implement your solution in the `greatest_roads_solver` function. You may use the following implementation of Dijkstra's in your solution as a subroutine -- in particular, you may find the `get_path` function useful. You may also want to define helper functions to help construct the graph.\n",
    "\n",
    "*Hints:*  \n",
    "    1) It may be helpful to define a function which labels vertices in the new graph you create.  \n",
    "    2) You need to transform the path found on the new graph, back to a path on the original graph.  \n",
    "__3) All edges are directed. Just because a road is great in one direction, does not mean it's great in both.__"
   ]
  },
  {
   "cell_type": "code",
   "execution_count": null,
   "id": "c1f46c4b",
   "metadata": {},
   "outputs": [],
   "source": [
    "def shortest_path(graph, v):\n",
    "    \"\"\"\n",
    "    This function assumes that nodes are labelled with integers between 0 and len(graph), where graph \n",
    "    is defined below.\n",
    "    \n",
    "    args:\n",
    "        - GRAPH:List[List[Tuple[int,int]]] is an adjacency list representation of the undirected graph.\n",
    "        g[v] consists of tuples (u, d) such that (v, u) is an edge of weight d.\n",
    "        - V:int is the start vertex from which we need to find the shortest distances.\n",
    "        Return:\n",
    "    returns:\n",
    "        - DISTANCE:Dict[int,int] a dictionary d such that d[u] is the length of the shortest path\n",
    "        from V to u. By definition, d[V] = 0.\n",
    "        - PARENT:Dict[int,int] a dictionary p such that p[u] is the parent of u on the shortest path\n",
    "        from V to u. In other words, if the shortest path from V to u is (V, x, y, z, u),\n",
    "        then p[u] = z, p[z] = y, ..., p[x] = V. We define p[V] to be None.\n",
    "    \"\"\"\n",
    "    distance_and_vertex_priority_queue = []\n",
    "    n = len(graph)\n",
    "    distance = [float('inf')]*n\n",
    "    parent = [None]*n\n",
    "    \n",
    "    heappush(distance_and_vertex_priority_queue, (0, v))\n",
    "    distance[v] = 0\n",
    "        \n",
    "    while len(distance_and_vertex_priority_queue) > 0:\n",
    "        distance_to_vertex, vertex = heappop(distance_and_vertex_priority_queue)\n",
    "        if distance_to_vertex > distance[vertex]:\n",
    "            continue\n",
    "        for neighbor, edge_weight in graph[vertex]:\n",
    "            neighbor_distance = distance[neighbor]\n",
    "            new_neighbor_distance = distance_to_vertex + edge_weight\n",
    "            \n",
    "            if new_neighbor_distance < neighbor_distance:\n",
    "                distance[neighbor] = new_neighbor_distance\n",
    "                parent[neighbor] = vertex\n",
    "                heappush(distance_and_vertex_priority_queue, (new_neighbor_distance, neighbor))\n",
    "                \n",
    "    return distance, parent\n",
    "\n",
    "def get_path(w, parent):\n",
    "    \"\"\"\n",
    "    Take in a vertex W and a dictionary PARENT, as described in the docstring\n",
    "    for the shortest_path method, and return the path from V to W, where V\n",
    "    is the vertex from which we ran Dijkstra's algorithm.\n",
    "    \"\"\"\n",
    "    path = []\n",
    "    while w is not None:\n",
    "        path.append(w)\n",
    "        w = parent[w]\n",
    "    path.reverse()\n",
    "    return path\n",
    "\n",
    "def get_distance(w, distance):\n",
    "    \"\"\"\n",
    "    Take in a vertex W and a dictionary DISTANCE, as described in the docstring\n",
    "    for the shortest_path method, and return the length of the shortest path from V to W,\n",
    "    where V is the vertex from which we ran Dijkstra's algorithm.\n",
    "    \"\"\"\n",
    "    return distance[w]"
   ]
  },
  {
   "cell_type": "code",
   "execution_count": null,
   "id": "85bb0662",
   "metadata": {
    "id": "reYUM9H9aO5D",
    "tags": []
   },
   "outputs": [],
   "source": [
    "...\n",
    "\n",
    "def greatest_roads_solver(non_great_roads, greatest_roads, k, a, n):\n",
    "    \"\"\"\n",
    "    Returns the shortest path which starts at node a and ends at node a which goes through k amazing roads\n",
    "    \n",
    "    args:\n",
    "        non_great_roads:List[Tuple[int,int]] = a list of tuples containing all roads which are not amazing roads.\n",
    "            The tuple (u,v) represents a directed edge corresponding to a non-amazing road.\n",
    "        greatest_roads:List[Tuple[int,int]] = a list of tuples containing all roads which are amazing roads.\n",
    "            The tuple (u,v) represents a directed edge corresponding to a non-amazing road\n",
    "        k:int = the number of amazing roads the path must traverse\n",
    "        a:int = the node representing home, which the path must start and end at\n",
    "        n:int = the number of nodes in the graph\n",
    "    returns:\n",
    "        a List[int] corresponding to the shortest path passing through k amazing roads. For example, if that \n",
    "            path is s->a->b->c->s, return the list [s,a,b,c,s]\n",
    "    \"\"\"\n",
    "    ...\n"
   ]
  },
  {
   "cell_type": "code",
   "execution_count": null,
   "id": "c4e5cc30",
   "metadata": {
    "deletable": false,
    "editable": false
   },
   "outputs": [],
   "source": [
    "grader.check(\"q1\")"
   ]
  },
  {
   "cell_type": "markdown",
   "id": "7ec7588b",
   "metadata": {},
   "source": [
    "### Debugging\n",
    "The otter tests are pasted here for your convenience. Feel free to add whatever print statements or assertions you'd like when debugging."
   ]
  },
  {
   "cell_type": "code",
   "execution_count": null,
   "id": "1bc8dba3",
   "metadata": {},
   "outputs": [],
   "source": [
    "def is_great(u,v, greatest_roads):\n",
    "    for a,b,_ in greatest_roads:\n",
    "        if a == u and b == v:\n",
    "            return True\n",
    "    return False\n",
    "for k,n,a,non_great_roads, greatest_roads, sol in tqdm.tqdm(zip(k_all,n_all,a_all,non_great_roads_all, greatest_roads_all, path_all),total=len(k_all)):\n",
    "    non_great_roads = [(edge[0],edge[1],edge[2]) for edge in non_great_roads]\n",
    "    greatest_roads = [(edge[0],edge[1],edge[2]) for edge in greatest_roads]\n",
    "\n",
    "    # create adjacency list from the edge lists\n",
    "    adj_list = [[-1 for j in range((k+1)*n)] for i in range((k+1)*n)]\n",
    "    for u,v,w in non_great_roads:\n",
    "        adj_list[u][v] = w\n",
    "    for u,v,w in greatest_roads:\n",
    "        adj_list[u][v] = w\n",
    "    path = greatest_roads_solver(non_great_roads, greatest_roads, k, a, n)\n",
    "\n",
    "    # check the path only contains edges in the graph AND that is passes through k amazing roads\n",
    "    num_greatest_roads = 0\n",
    "    for i in range(len(path)-1):\n",
    "        assert adj_list[u][v] != -1, f\"Your path includes an edge that's not in the graph!\"\n",
    "        if is_great(path[i], path[i + 1], greatest_roads):\n",
    "            num_greatest_roads += 1\n",
    "    assert num_greatest_roads >= k, f\"Your path contains fewer than k amazing roads!\"\n",
    "\n",
    "    # checks that the path starts and ends at the right nodes\n",
    "    assert path[0] == sol[0], f\"Your path does not start at the correct node.\"\n",
    "    assert path[len(path) - 1] == sol[len(sol) - 1], f\"Your path does not end at the correct node.\"\n",
    "\n",
    "    # checks that the path is the shortest path\n",
    "    distance1 = np.sum([adj_list[path[i]][path[i+1]] for i in range(len(path) - 1)])\n",
    "    distance2 = np.sum([adj_list[sol[i]][sol[i+1]] for i in range(len(sol) - 1)])\n",
    "    assert distance1 == distance2, f\"Your path is not the possible shortest path.\""
   ]
  },
  {
   "cell_type": "code",
   "execution_count": null,
   "id": "38cd75e4",
   "metadata": {},
   "outputs": [],
   "source": []
  },
  {
   "cell_type": "markdown",
   "id": "4604b10e",
   "metadata": {
    "deletable": false,
    "editable": false
   },
   "source": [
    "## Submission\n",
    "\n",
    "Make sure you have run all cells in your notebook in order before running the cell below, so that all images/graphs appear in the output. The cell below will generate a zip file for you to submit."
   ]
  },
  {
   "cell_type": "code",
   "execution_count": null,
   "id": "a7f5690f",
   "metadata": {
    "deletable": false,
    "editable": false
   },
   "outputs": [],
   "source": [
    "grader.export(pdf=False, force_save=True, run_tests=True)"
   ]
  },
  {
   "cell_type": "markdown",
   "id": "52e73133",
   "metadata": {},
   "source": [
    " "
   ]
  }
 ],
 "metadata": {
  "kernelspec": {
   "display_name": "Python 3 (ipykernel)",
   "language": "python",
   "name": "python3"
  },
  "language_info": {
   "codemirror_mode": {
    "name": "ipython",
    "version": 3
   },
   "file_extension": ".py",
   "mimetype": "text/x-python",
   "name": "python",
   "nbconvert_exporter": "python",
   "pygments_lexer": "ipython3",
   "version": "3.10.9"
  },
  "otter": {
   "OK_FORMAT": false,
   "assignment_name": "greatest_roads",
   "tests": {
    "q1": "from otter.test_files import test_case\n\nOK_FORMAT = False\n\nname = \"q1\"\npoints = 3.0\n\n@test_case(points=None, hidden=False)\ndef test_q1(k_all,n_all,a_all,non_great_roads_all, greatest_roads_all, path_all,greatest_roads_solver, tqdm,np):\n    def is_great(u,v, greatest_roads):\n        for a,b,_ in greatest_roads:\n            if a == u and b == v:\n                return True\n        return False\n    for k,n,a,non_great_roads, greatest_roads, sol in tqdm.tqdm(zip(k_all,n_all,a_all,non_great_roads_all, greatest_roads_all, path_all),total=len(k_all)):\n        non_great_roads = [(edge[0],edge[1],edge[2]) for edge in non_great_roads]\n        greatest_roads = [(edge[0],edge[1],edge[2]) for edge in greatest_roads]\n        \n        # create adjacency list from the edge lists\n        adj_list = [[-1 for j in range((k+1)*n)] for i in range((k+1)*n)]\n        for u,v,w in non_great_roads:\n            adj_list[u][v] = w\n        for u,v,w in greatest_roads:\n            adj_list[u][v] = w\n        path = greatest_roads_solver(non_great_roads, greatest_roads, k, a, n)\n\n        # check the path only contains edges in the graph AND that is passes through k amazing roads\n        num_greatest_roads = 0\n        for i in range(len(path)-1):\n            assert adj_list[u][v] != -1, f\"Your path includes an edge that's not in the graph!\"\n            if is_great(path[i], path[i + 1], greatest_roads):\n                num_greatest_roads += 1\n        assert num_greatest_roads >= k, f\"Your path contains fewer than k amazing roads!\"\n        \n        # checks that the path starts and ends at the right nodes\n        assert path[0] == sol[0], f\"Your path does not start at the correct node.\"\n        assert path[len(path) - 1] == sol[len(sol) - 1], f\"Your path does not end at the correct node.\"\n\n        # checks that the path is the shortest path\n        distance1 = np.sum([adj_list[path[i]][path[i+1]] for i in range(len(path) - 1)])\n        distance2 = np.sum([adj_list[sol[i]][sol[i+1]] for i in range(len(sol) - 1)])\n        assert distance1 == distance2, f\"Your path is not the possible shortest path.\"\n\n"
   }
  }
 },
 "nbformat": 4,
 "nbformat_minor": 5
}
